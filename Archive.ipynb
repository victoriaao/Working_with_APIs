{
 "cells": [
  {
   "cell_type": "code",
   "execution_count": 1,
   "id": "721462aa",
   "metadata": {},
   "outputs": [],
   "source": [
    "#Import necessary libraries\n",
    "import requests\n",
    "import pandas as pd\n",
    "import json\n",
    "import matplotlib.pyplot as plt"
   ]
  },
  {
   "cell_type": "code",
   "execution_count": 2,
   "id": "c6d099ef",
   "metadata": {},
   "outputs": [],
   "source": [
    "#Fetching data from the URL\n",
    "url = 'https://archive.org/metadata/TheAdventuresOfTomSawyer_201303'\n",
    "result = requests.get(url)"
   ]
  },
  {
   "cell_type": "code",
   "execution_count": 3,
   "id": "b17b00bf",
   "metadata": {},
   "outputs": [
    {
     "name": "stdout",
     "output_type": "stream",
     "text": [
      "{\"alternate_locations\":{\"servers\":[{\"server\":\"dn790006.ca.archive.org\",\"dir\":\"/0/items/TheAdventuresOfTomSawyer_201303\"}],\"workable\":[{\"server\":\"dn790006.ca.archive.org\",\"dir\":\"/0/items/TheAdventuresOfTomSawyer_201303\"}]},\"created\":1689703115,\"d1\":\"ia600403.us.archive.org\",\"d2\":\"ia800403.us.archive.org\",\"dir\":\"/8/items/TheAdventuresOfTomSawyer_201303\",\"files\":[{\"name\":\"The Adventures of Tom Sawyer.djvu\",\"source\":\"derivative\",\"format\":\"DjVu\",\"original\":\"The Adventures of Tom Sawyer_djvu.xml\",\"mtime\":\"1362417954\",\"size\":\"7566731\",\"md5\":\"7e6193a4699a1e01dba909ba2e151da8\",\"crc32\":\"43d5da8f\",\"sha1\":\"ea55bbf112993a7e86ac994631d12f5050ee6434\"},{\"name\":\"The Adventures of Tom Sawyer.gif\",\"source\":\"derivative\",\"format\":\"Animated GIF\",\"original\":\"The Adventures of Tom Sawyer_jp2.zip\",\"mtime\":\"1362414413\",\"size\":\"222532\",\"md5\":\"03264a33dbfafb2f6d9c4883bcc4e714\",\"crc32\":\"1c03e54b\",\"sha1\":\"41e317c3f5ff2a2bb2d4cf9695715ec375a699d3\"},{\"name\":\"The Adventures of Tom Sawyer.pdf\",\"source\":\"original\",\"format\":\"Text PDF\",\"mtime\":\"1362412426\",\"size\":\"14731016\",\"md5\":\"06c730d44a5046a7756f88f177515eec\",\"crc32\":\"ce64be45\",\"sha1\":\"9595045ac41eab38b66f0535e2ed1e9b04632941\"},{\"name\":\"The Adventures of Tom Sawyer.pdf_meta.txt\",\"source\":\"original\",\"format\":\"Metadata\",\"mtime\":\"1362412427\",\"size\":\"1425\",\"md5\":\"ffdbbcbacb9342477a1b5a10e5a266ed\",\"crc32\":\"25f78f07\",\"sha1\":\"202ee7d79620c5eeac150c0182632dfdaab5ec34\"},{\"name\":\"The Adventures of Tom Sawyer_abbyy.gz\",\"source\":\"derivative\",\"format\":\"Abbyy GZ\",\"original\":\"The Adventures of Tom Sawyer_jp2.zip\",\"mtime\":\"1362416967\",\"size\":\"6368889\",\"md5\":\"2423745ba5b8af2d1ef982d6a7e3ba3e\",\"crc32\":\"2f40ef7a\",\"sha1\":\"9eead4c2b118eade57b4ec6c4d8e3fb646c46fae\"},{\"name\":\"The Adventures of Tom Sawyer_djvu.txt\",\"source\":\"derivative\",\"format\":\"DjVuTXT\",\"original\":\"The Adventures of Tom Sawyer.djvu\",\"mtime\":\"1362417984\",\"size\":\"414366\",\"md5\":\"77a64f2484668b0d006f5e8604c3f5f9\",\"crc32\":\"40596ca0\",\"sha1\":\"7b5fae132ddb4bb0042e18857b3b08d229878d4c\"},{\"name\":\"The Adventures of Tom Sawyer_djvu.xml\",\"source\":\"derivative\",\"format\":\"Djvu XML\",\"original\":\"The Adventures of Tom Sawyer_abbyy.gz\",\"mtime\":\"1362417049\",\"size\":\"4185685\",\"md5\":\"3a8eb13632e178359b4217b797fd41b0\",\"crc32\":\"6f7b960f\",\"sha1\":\"507dc9b6910bc5a994927ec01996e98a77bd63b1\"},{\"name\":\"The Adventures of Tom Sawyer_jp2.zip\",\"source\":\"derivative\",\"format\":\"Single Page Processed JP2 ZIP\",\"original\":\"The Adventures of Tom Sawyer.pdf\",\"mtime\":\"1362414385\",\"size\":\"201989641\",\"md5\":\"1969112fdfca36b99d91a69b690f5a80\",\"crc32\":\"74c7178c\",\"sha1\":\"702d9ab5c6d1f809779e3a1128083f02a2eeeca2\"},{\"name\":\"The Adventures of Tom Sawyer_scandata.xml\",\"source\":\"derivative\",\"format\":\"Scandata\",\"original\":\"The Adventures of Tom Sawyer_djvu.xml\",\"mtime\":\"1362417958\",\"size\":\"94934\",\"md5\":\"d3bd2fc270607c145e9feedf38e929b9\",\"crc32\":\"3067f090\",\"sha1\":\"6ab478ae7b97131629ef188c54ba10fff5379ef3\"},{\"name\":\"TheAdventuresOfTomSawyer_201303_archive.torrent\",\"source\":\"metadata\",\"btih\":\"6b74a650224ab3b599a7483a53c89e11a11ec047\",\"mtime\":\"1658296123\",\"size\":\"12299\",\"md5\":\"89149487f4d476891e8f340a3af337f1\",\"crc32\":\"f22480fe\",\"sha1\":\"3dacb636105e8499c4cf3d90ee87ce97bd325096\",\"format\":\"Archive BitTorrent\"},{\"name\":\"TheAdventuresOfTomSawyer_201303_files.xml\",\"source\":\"original\",\"format\":\"Metadata\",\"md5\":\"a2ec3a95dc375d5693f2d624829b07f5\",\"summation\":\"md5\"},{\"name\":\"TheAdventuresOfTomSawyer_201303_meta.sqlite\",\"source\":\"original\",\"mtime\":\"1467885780\",\"size\":\"6144\",\"format\":\"Metadata\",\"md5\":\"a1bdf1698d36ffb3a3f8e427e0fc4eed\",\"crc32\":\"5d4a1809\",\"sha1\":\"4f54e13219d421fbe8e4cfc2b4337a43ff999bba\"},{\"name\":\"TheAdventuresOfTomSawyer_201303_meta.xml\",\"source\":\"original\",\"format\":\"Metadata\",\"mtime\":\"1613210991\",\"size\":\"1701\",\"md5\":\"f37ce389533be4f5dde34f8e52395b2d\",\"crc32\":\"eedf7e08\",\"sha1\":\"c89f6f3ac66204498bfc262a55753e38fdb0031d\"},{\"name\":\"TheAdventuresOfTomSawyer_201303_reviews.xml\",\"source\":\"original\",\"mtime\":\"1658296105\",\"size\":\"542\",\"md5\":\"efc72d7ce63af6320797e5a5b50055de\",\"crc32\":\"d988af92\",\"sha1\":\"2281e31a70afbd61bdc03d2be06f4a267976a091\",\"format\":\"Metadata\"},{\"name\":\"__ia_thumb.jpg\",\"source\":\"original\",\"mtime\":\"1658092876\",\"size\":\"17842\",\"md5\":\"c364290c68df3c0649310ed7bbae7ddd\",\"crc32\":\"413cf1b5\",\"sha1\":\"cb61e89936d6f2b24410566597c4f4aaafbbdf58\",\"format\":\"Item Tile\",\"rotation\":\"0\"}],\"files_count\":15,\"item_last_updated\":1658296123,\"item_size\":235613747,\"metadata\":{\"identifier\":\"TheAdventuresOfTomSawyer_201303\",\"mediatype\":\"texts\",\"description\":\"The story of Tom Sawyer, a young man who is an expert at getting what he wants. But when Tom and his best friend Huck stumble onto murderers and thieves, their lives will never be the same.\\nSuggested Reading Level: UP (Upper Primary)\",\"language\":\"eng\",\"scanner\":\"Internet Archive HTML5 Uploader 1.2\",\"title\":\"The Adventures Of Tom Sawyer\",\"publicdate\":\"2013-03-04 15:53:47\",\"uploader\":\"richard.rowe@ole.org\",\"addeddate\":\"2013-03-04 15:53:47\",\"identifier-access\":\"http://archive.org/details/TheAdventuresOfTomSawyer_201303\",\"identifier-ark\":\"ark:/13960/t6k08f201\",\"ppi\":\"600\",\"ocr\":\"ABBYY FineReader 8.0\",\"repub_state\":\"4\",\"creator\":\"Twain, Mark, 1835-191\",\"subject\":[\"Male friendship -- Fiction\",\"Boys -- Missouri -- Juvenile fiction\",\"LIT\",\"LIT.UP\",\"Runaway children -- Juvenile fiction\",\"Missouri -- Juvenile fiction\",\"C3\",\"Chapter Books (Long)\"],\"curation\":\"[curator]malware@archive.org[/curator][date]20140317184704[/date][comment]checked for malware[/comment]\",\"collection\":[\"bell_literature\",\"bell\",\"additional_collections\"],\"backup_location\":\"ia905607_28\",\"openlibrary_edition\":\"OL31956716M\",\"openlibrary_work\":\"OL53919W\"},\"reviews\":[{\"reviewtitle\":\"Tom Sawyer\",\"reviewbody\":\"I really like this book!It is funny!\",\"stars\":\"4\",\"reviewer\":\"Marmalade2020\",\"reviewdate\":\"2020-12-02 13:01:22\",\"createdate\":\"2020-12-02 13:01:22\",\"reviewer_itemname\":\"@marmalade2020\"}],\"server\":\"ia800403.us.archive.org\",\"uniq\":1597814015,\"workable_servers\":[\"ia800403.us.archive.org\",\"ia600403.us.archive.org\"]}\n"
     ]
    }
   ],
   "source": [
    "#Checking data output\n",
    "print(result.text)"
   ]
  },
  {
   "cell_type": "code",
   "execution_count": 4,
   "id": "206d4dd5",
   "metadata": {
    "scrolled": true
   },
   "outputs": [
    {
     "name": "stdout",
     "output_type": "stream",
     "text": [
      "<class 'requests.models.Response'>\n"
     ]
    }
   ],
   "source": [
    "print(type(result))"
   ]
  },
  {
   "cell_type": "code",
   "execution_count": 5,
   "id": "ede86087",
   "metadata": {},
   "outputs": [
    {
     "name": "stdout",
     "output_type": "stream",
     "text": [
      "{'alternate_locations': {'servers': [{'server': 'dn790006.ca.archive.org', 'dir': '/0/items/TheAdventuresOfTomSawyer_201303'}], 'workable': [{'server': 'dn790006.ca.archive.org', 'dir': '/0/items/TheAdventuresOfTomSawyer_201303'}]}, 'created': 1689703115, 'd1': 'ia600403.us.archive.org', 'd2': 'ia800403.us.archive.org', 'dir': '/8/items/TheAdventuresOfTomSawyer_201303', 'files': [{'name': 'The Adventures of Tom Sawyer.djvu', 'source': 'derivative', 'format': 'DjVu', 'original': 'The Adventures of Tom Sawyer_djvu.xml', 'mtime': '1362417954', 'size': '7566731', 'md5': '7e6193a4699a1e01dba909ba2e151da8', 'crc32': '43d5da8f', 'sha1': 'ea55bbf112993a7e86ac994631d12f5050ee6434'}, {'name': 'The Adventures of Tom Sawyer.gif', 'source': 'derivative', 'format': 'Animated GIF', 'original': 'The Adventures of Tom Sawyer_jp2.zip', 'mtime': '1362414413', 'size': '222532', 'md5': '03264a33dbfafb2f6d9c4883bcc4e714', 'crc32': '1c03e54b', 'sha1': '41e317c3f5ff2a2bb2d4cf9695715ec375a699d3'}, {'name': 'The Adventures of Tom Sawyer.pdf', 'source': 'original', 'format': 'Text PDF', 'mtime': '1362412426', 'size': '14731016', 'md5': '06c730d44a5046a7756f88f177515eec', 'crc32': 'ce64be45', 'sha1': '9595045ac41eab38b66f0535e2ed1e9b04632941'}, {'name': 'The Adventures of Tom Sawyer.pdf_meta.txt', 'source': 'original', 'format': 'Metadata', 'mtime': '1362412427', 'size': '1425', 'md5': 'ffdbbcbacb9342477a1b5a10e5a266ed', 'crc32': '25f78f07', 'sha1': '202ee7d79620c5eeac150c0182632dfdaab5ec34'}, {'name': 'The Adventures of Tom Sawyer_abbyy.gz', 'source': 'derivative', 'format': 'Abbyy GZ', 'original': 'The Adventures of Tom Sawyer_jp2.zip', 'mtime': '1362416967', 'size': '6368889', 'md5': '2423745ba5b8af2d1ef982d6a7e3ba3e', 'crc32': '2f40ef7a', 'sha1': '9eead4c2b118eade57b4ec6c4d8e3fb646c46fae'}, {'name': 'The Adventures of Tom Sawyer_djvu.txt', 'source': 'derivative', 'format': 'DjVuTXT', 'original': 'The Adventures of Tom Sawyer.djvu', 'mtime': '1362417984', 'size': '414366', 'md5': '77a64f2484668b0d006f5e8604c3f5f9', 'crc32': '40596ca0', 'sha1': '7b5fae132ddb4bb0042e18857b3b08d229878d4c'}, {'name': 'The Adventures of Tom Sawyer_djvu.xml', 'source': 'derivative', 'format': 'Djvu XML', 'original': 'The Adventures of Tom Sawyer_abbyy.gz', 'mtime': '1362417049', 'size': '4185685', 'md5': '3a8eb13632e178359b4217b797fd41b0', 'crc32': '6f7b960f', 'sha1': '507dc9b6910bc5a994927ec01996e98a77bd63b1'}, {'name': 'The Adventures of Tom Sawyer_jp2.zip', 'source': 'derivative', 'format': 'Single Page Processed JP2 ZIP', 'original': 'The Adventures of Tom Sawyer.pdf', 'mtime': '1362414385', 'size': '201989641', 'md5': '1969112fdfca36b99d91a69b690f5a80', 'crc32': '74c7178c', 'sha1': '702d9ab5c6d1f809779e3a1128083f02a2eeeca2'}, {'name': 'The Adventures of Tom Sawyer_scandata.xml', 'source': 'derivative', 'format': 'Scandata', 'original': 'The Adventures of Tom Sawyer_djvu.xml', 'mtime': '1362417958', 'size': '94934', 'md5': 'd3bd2fc270607c145e9feedf38e929b9', 'crc32': '3067f090', 'sha1': '6ab478ae7b97131629ef188c54ba10fff5379ef3'}, {'name': 'TheAdventuresOfTomSawyer_201303_archive.torrent', 'source': 'metadata', 'btih': '6b74a650224ab3b599a7483a53c89e11a11ec047', 'mtime': '1658296123', 'size': '12299', 'md5': '89149487f4d476891e8f340a3af337f1', 'crc32': 'f22480fe', 'sha1': '3dacb636105e8499c4cf3d90ee87ce97bd325096', 'format': 'Archive BitTorrent'}, {'name': 'TheAdventuresOfTomSawyer_201303_files.xml', 'source': 'original', 'format': 'Metadata', 'md5': 'a2ec3a95dc375d5693f2d624829b07f5', 'summation': 'md5'}, {'name': 'TheAdventuresOfTomSawyer_201303_meta.sqlite', 'source': 'original', 'mtime': '1467885780', 'size': '6144', 'format': 'Metadata', 'md5': 'a1bdf1698d36ffb3a3f8e427e0fc4eed', 'crc32': '5d4a1809', 'sha1': '4f54e13219d421fbe8e4cfc2b4337a43ff999bba'}, {'name': 'TheAdventuresOfTomSawyer_201303_meta.xml', 'source': 'original', 'format': 'Metadata', 'mtime': '1613210991', 'size': '1701', 'md5': 'f37ce389533be4f5dde34f8e52395b2d', 'crc32': 'eedf7e08', 'sha1': 'c89f6f3ac66204498bfc262a55753e38fdb0031d'}, {'name': 'TheAdventuresOfTomSawyer_201303_reviews.xml', 'source': 'original', 'mtime': '1658296105', 'size': '542', 'md5': 'efc72d7ce63af6320797e5a5b50055de', 'crc32': 'd988af92', 'sha1': '2281e31a70afbd61bdc03d2be06f4a267976a091', 'format': 'Metadata'}, {'name': '__ia_thumb.jpg', 'source': 'original', 'mtime': '1658092876', 'size': '17842', 'md5': 'c364290c68df3c0649310ed7bbae7ddd', 'crc32': '413cf1b5', 'sha1': 'cb61e89936d6f2b24410566597c4f4aaafbbdf58', 'format': 'Item Tile', 'rotation': '0'}], 'files_count': 15, 'item_last_updated': 1658296123, 'item_size': 235613747, 'metadata': {'identifier': 'TheAdventuresOfTomSawyer_201303', 'mediatype': 'texts', 'description': 'The story of Tom Sawyer, a young man who is an expert at getting what he wants. But when Tom and his best friend Huck stumble onto murderers and thieves, their lives will never be the same.\\nSuggested Reading Level: UP (Upper Primary)', 'language': 'eng', 'scanner': 'Internet Archive HTML5 Uploader 1.2', 'title': 'The Adventures Of Tom Sawyer', 'publicdate': '2013-03-04 15:53:47', 'uploader': 'richard.rowe@ole.org', 'addeddate': '2013-03-04 15:53:47', 'identifier-access': 'http://archive.org/details/TheAdventuresOfTomSawyer_201303', 'identifier-ark': 'ark:/13960/t6k08f201', 'ppi': '600', 'ocr': 'ABBYY FineReader 8.0', 'repub_state': '4', 'creator': 'Twain, Mark, 1835-191', 'subject': ['Male friendship -- Fiction', 'Boys -- Missouri -- Juvenile fiction', 'LIT', 'LIT.UP', 'Runaway children -- Juvenile fiction', 'Missouri -- Juvenile fiction', 'C3', 'Chapter Books (Long)'], 'curation': '[curator]malware@archive.org[/curator][date]20140317184704[/date][comment]checked for malware[/comment]', 'collection': ['bell_literature', 'bell', 'additional_collections'], 'backup_location': 'ia905607_28', 'openlibrary_edition': 'OL31956716M', 'openlibrary_work': 'OL53919W'}, 'reviews': [{'reviewtitle': 'Tom Sawyer', 'reviewbody': 'I really like this book!It is funny!', 'stars': '4', 'reviewer': 'Marmalade2020', 'reviewdate': '2020-12-02 13:01:22', 'createdate': '2020-12-02 13:01:22', 'reviewer_itemname': '@marmalade2020'}], 'server': 'ia800403.us.archive.org', 'uniq': 1597814015, 'workable_servers': ['ia800403.us.archive.org', 'ia600403.us.archive.org']}\n"
     ]
    }
   ],
   "source": [
    "data = json.loads(result.text)\n",
    "print(data)"
   ]
  },
  {
   "cell_type": "code",
   "execution_count": 6,
   "id": "727bcbf1",
   "metadata": {
    "collapsed": true
   },
   "outputs": [
    {
     "name": "stdout",
     "output_type": "stream",
     "text": [
      "dict_keys(['alternate_locations', 'created', 'd1', 'd2', 'dir', 'files', 'files_count', 'item_last_updated', 'item_size', 'metadata', 'reviews', 'server', 'uniq', 'workable_servers'])\n",
      "{\n",
      "    \"identifier\": \"TheAdventuresOfTomSawyer_201303\",\n",
      "    \"mediatype\": \"texts\",\n",
      "    \"description\": \"The story of Tom Sawyer, a young man who is an expert at getting what he wants. But when Tom and his best friend Huck stumble onto murderers and thieves, their lives will never be the same.\\nSuggested Reading Level: UP (Upper Primary)\",\n",
      "    \"language\": \"eng\",\n",
      "    \"scanner\": \"Internet Archive HTML5 Uploader 1.2\",\n",
      "    \"title\": \"The Adventures Of Tom Sawyer\",\n",
      "    \"publicdate\": \"2013-03-04 15:53:47\",\n",
      "    \"uploader\": \"richard.rowe@ole.org\",\n",
      "    \"addeddate\": \"2013-03-04 15:53:47\",\n",
      "    \"identifier-access\": \"http://archive.org/details/TheAdventuresOfTomSawyer_201303\",\n",
      "    \"identifier-ark\": \"ark:/13960/t6k08f201\",\n",
      "    \"ppi\": \"600\",\n",
      "    \"ocr\": \"ABBYY FineReader 8.0\",\n",
      "    \"repub_state\": \"4\",\n",
      "    \"creator\": \"Twain, Mark, 1835-191\",\n",
      "    \"subject\": [\n",
      "        \"Male friendship -- Fiction\",\n",
      "        \"Boys -- Missouri -- Juvenile fiction\",\n",
      "        \"LIT\",\n",
      "        \"LIT.UP\",\n",
      "        \"Runaway children -- Juvenile fiction\",\n",
      "        \"Missouri -- Juvenile fiction\",\n",
      "        \"C3\",\n",
      "        \"Chapter Books (Long)\"\n",
      "    ],\n",
      "    \"curation\": \"[curator]malware@archive.org[/curator][date]20140317184704[/date][comment]checked for malware[/comment]\",\n",
      "    \"collection\": [\n",
      "        \"bell_literature\",\n",
      "        \"bell\",\n",
      "        \"additional_collections\"\n",
      "    ],\n",
      "    \"backup_location\": \"ia905607_28\",\n",
      "    \"openlibrary_edition\": \"OL31956716M\",\n",
      "    \"openlibrary_work\": \"OL53919W\"\n",
      "}\n"
     ]
    }
   ],
   "source": [
    "# Print the keys available in the data\n",
    "print(data.keys())\n",
    "\n",
    "# Print the metadata of the item\n",
    "print(json.dumps(data['metadata'], indent=4))"
   ]
  },
  {
   "cell_type": "code",
   "execution_count": 7,
   "id": "a27bfcff",
   "metadata": {},
   "outputs": [
    {
     "name": "stdout",
     "output_type": "stream",
     "text": [
      "Title: The Adventures Of Tom Sawyer\n",
      "Collection: ['bell_literature', 'bell', 'additional_collections']\n"
     ]
    }
   ],
   "source": [
    "#Accessing the title of the item\n",
    "title = data['metadata']['title']\n",
    "print(f\"Title: {title}\")\n",
    "\n",
    "# Accessing the collection\n",
    "collection = data['metadata']['collection']\n",
    "print(f\"Collection: {collection}\")"
   ]
  },
  {
   "cell_type": "code",
   "execution_count": 8,
   "id": "838ecb6e",
   "metadata": {
    "collapsed": true
   },
   "outputs": [
    {
     "name": "stdout",
     "output_type": "stream",
     "text": [
      "[{'name': 'The Adventures of Tom Sawyer.djvu', 'source': 'derivative', 'format': 'DjVu', 'original': 'The Adventures of Tom Sawyer_djvu.xml', 'mtime': '1362417954', 'size': '7566731', 'md5': '7e6193a4699a1e01dba909ba2e151da8', 'crc32': '43d5da8f', 'sha1': 'ea55bbf112993a7e86ac994631d12f5050ee6434'}, {'name': 'The Adventures of Tom Sawyer.gif', 'source': 'derivative', 'format': 'Animated GIF', 'original': 'The Adventures of Tom Sawyer_jp2.zip', 'mtime': '1362414413', 'size': '222532', 'md5': '03264a33dbfafb2f6d9c4883bcc4e714', 'crc32': '1c03e54b', 'sha1': '41e317c3f5ff2a2bb2d4cf9695715ec375a699d3'}, {'name': 'The Adventures of Tom Sawyer.pdf', 'source': 'original', 'format': 'Text PDF', 'mtime': '1362412426', 'size': '14731016', 'md5': '06c730d44a5046a7756f88f177515eec', 'crc32': 'ce64be45', 'sha1': '9595045ac41eab38b66f0535e2ed1e9b04632941'}, {'name': 'The Adventures of Tom Sawyer.pdf_meta.txt', 'source': 'original', 'format': 'Metadata', 'mtime': '1362412427', 'size': '1425', 'md5': 'ffdbbcbacb9342477a1b5a10e5a266ed', 'crc32': '25f78f07', 'sha1': '202ee7d79620c5eeac150c0182632dfdaab5ec34'}, {'name': 'The Adventures of Tom Sawyer_abbyy.gz', 'source': 'derivative', 'format': 'Abbyy GZ', 'original': 'The Adventures of Tom Sawyer_jp2.zip', 'mtime': '1362416967', 'size': '6368889', 'md5': '2423745ba5b8af2d1ef982d6a7e3ba3e', 'crc32': '2f40ef7a', 'sha1': '9eead4c2b118eade57b4ec6c4d8e3fb646c46fae'}, {'name': 'The Adventures of Tom Sawyer_djvu.txt', 'source': 'derivative', 'format': 'DjVuTXT', 'original': 'The Adventures of Tom Sawyer.djvu', 'mtime': '1362417984', 'size': '414366', 'md5': '77a64f2484668b0d006f5e8604c3f5f9', 'crc32': '40596ca0', 'sha1': '7b5fae132ddb4bb0042e18857b3b08d229878d4c'}, {'name': 'The Adventures of Tom Sawyer_djvu.xml', 'source': 'derivative', 'format': 'Djvu XML', 'original': 'The Adventures of Tom Sawyer_abbyy.gz', 'mtime': '1362417049', 'size': '4185685', 'md5': '3a8eb13632e178359b4217b797fd41b0', 'crc32': '6f7b960f', 'sha1': '507dc9b6910bc5a994927ec01996e98a77bd63b1'}, {'name': 'The Adventures of Tom Sawyer_jp2.zip', 'source': 'derivative', 'format': 'Single Page Processed JP2 ZIP', 'original': 'The Adventures of Tom Sawyer.pdf', 'mtime': '1362414385', 'size': '201989641', 'md5': '1969112fdfca36b99d91a69b690f5a80', 'crc32': '74c7178c', 'sha1': '702d9ab5c6d1f809779e3a1128083f02a2eeeca2'}, {'name': 'The Adventures of Tom Sawyer_scandata.xml', 'source': 'derivative', 'format': 'Scandata', 'original': 'The Adventures of Tom Sawyer_djvu.xml', 'mtime': '1362417958', 'size': '94934', 'md5': 'd3bd2fc270607c145e9feedf38e929b9', 'crc32': '3067f090', 'sha1': '6ab478ae7b97131629ef188c54ba10fff5379ef3'}, {'name': 'TheAdventuresOfTomSawyer_201303_archive.torrent', 'source': 'metadata', 'btih': '6b74a650224ab3b599a7483a53c89e11a11ec047', 'mtime': '1658296123', 'size': '12299', 'md5': '89149487f4d476891e8f340a3af337f1', 'crc32': 'f22480fe', 'sha1': '3dacb636105e8499c4cf3d90ee87ce97bd325096', 'format': 'Archive BitTorrent'}, {'name': 'TheAdventuresOfTomSawyer_201303_files.xml', 'source': 'original', 'format': 'Metadata', 'md5': 'a2ec3a95dc375d5693f2d624829b07f5', 'summation': 'md5'}, {'name': 'TheAdventuresOfTomSawyer_201303_meta.sqlite', 'source': 'original', 'mtime': '1467885780', 'size': '6144', 'format': 'Metadata', 'md5': 'a1bdf1698d36ffb3a3f8e427e0fc4eed', 'crc32': '5d4a1809', 'sha1': '4f54e13219d421fbe8e4cfc2b4337a43ff999bba'}, {'name': 'TheAdventuresOfTomSawyer_201303_meta.xml', 'source': 'original', 'format': 'Metadata', 'mtime': '1613210991', 'size': '1701', 'md5': 'f37ce389533be4f5dde34f8e52395b2d', 'crc32': 'eedf7e08', 'sha1': 'c89f6f3ac66204498bfc262a55753e38fdb0031d'}, {'name': 'TheAdventuresOfTomSawyer_201303_reviews.xml', 'source': 'original', 'mtime': '1658296105', 'size': '542', 'md5': 'efc72d7ce63af6320797e5a5b50055de', 'crc32': 'd988af92', 'sha1': '2281e31a70afbd61bdc03d2be06f4a267976a091', 'format': 'Metadata'}, {'name': '__ia_thumb.jpg', 'source': 'original', 'mtime': '1658092876', 'size': '17842', 'md5': 'c364290c68df3c0649310ed7bbae7ddd', 'crc32': '413cf1b5', 'sha1': 'cb61e89936d6f2b24410566597c4f4aaafbbdf58', 'format': 'Item Tile', 'rotation': '0'}]\n"
     ]
    }
   ],
   "source": [
    "dataset = data['files']\n",
    "print(dataset)"
   ]
  },
  {
   "cell_type": "code",
   "execution_count": 9,
   "id": "3d6e4b19",
   "metadata": {},
   "outputs": [],
   "source": [
    "#Convert data to DataFrame\n",
    "data_df = pd.DataFrame(data['files'])"
   ]
  },
  {
   "cell_type": "code",
   "execution_count": 10,
   "id": "f59b8d98",
   "metadata": {},
   "outputs": [
    {
     "name": "stdout",
     "output_type": "stream",
     "text": [
      "Metadata                         5\n",
      "DjVu                             1\n",
      "Animated GIF                     1\n",
      "Text PDF                         1\n",
      "Abbyy GZ                         1\n",
      "DjVuTXT                          1\n",
      "Djvu XML                         1\n",
      "Single Page Processed JP2 ZIP    1\n",
      "Scandata                         1\n",
      "Archive BitTorrent               1\n",
      "Item Tile                        1\n",
      "Name: format, dtype: int64\n"
     ]
    }
   ],
   "source": [
    "#Count the occurrences of each 'format'\n",
    "format_counts = data_df['format'].value_counts()\n",
    "print(format_counts)"
   ]
  },
  {
   "cell_type": "code",
   "execution_count": 11,
   "id": "4918b380",
   "metadata": {},
   "outputs": [
    {
     "data": {
      "image/png": "[encoded data removed]",
      "text/plain": [
       "<Figure size 432x288 with 1 Axes>"
      ]
     },
     "metadata": {
      "needs_background": "light"
     },
     "output_type": "display_data"
    }
   ],
   "source": [
    "# Plotting the format counts as a bar chart\n",
    "plt.bar(format_counts.index, format_counts.values)\n",
    "plt.xlabel('Format')\n",
    "plt.ylabel('Count')\n",
    "plt.title('Counts of Different Formats')\n",
    "plt.xticks(rotation=45)\n",
    "plt.show()"
   ]
  }
 ],
 "metadata": {
  "kernelspec": {
   "display_name": "Python 3 (ipykernel)",
   "language": "python",
   "name": "python3"
  },
  "language_info": {
   "codemirror_mode": {
    "name": "ipython",
    "version": 3
   },
   "file_extension": ".py",
   "mimetype": "text/x-python",
   "name": "python",
   "nbconvert_exporter": "python",
   "pygments_lexer": "ipython3",
   "version": "3.9.7"
  }
 },
 "nbformat": 4,
 "nbformat_minor": 5
}
