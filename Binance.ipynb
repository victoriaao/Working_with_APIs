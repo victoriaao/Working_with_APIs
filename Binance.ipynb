{
 "cells": [
  {
   "cell_type": "code",
   "execution_count": 1,
   "id": "0e1ced41",
   "metadata": {},
   "outputs": [],
   "source": [
    "#Importing Libraries\n",
    "import requests \n",
    "import pandas as pd\n",
    "import json"
   ]
  },
  {
   "cell_type": "code",
   "execution_count": 2,
   "id": "900dbb8c",
   "metadata": {},
   "outputs": [],
   "source": [
    "#Fetching Data from the API\n",
    "url = 'https://api2.binance.com/api/v3/ticker/24hr'\n",
    "output = requests.get(url)\n",
    "data = output.json()"
   ]
  },
  {
   "cell_type": "code",
   "execution_count": 3,
   "id": "f00147aa",
   "metadata": {},
   "outputs": [],
   "source": [
    "#Putting data into DataFrame\n",
    "pdframe = pd.DataFrame(data)"
   ]
  },
  {
   "cell_type": "code",
   "execution_count": 4,
   "id": "b2b06437",
   "metadata": {
    "collapsed": true
   },
   "outputs": [
    {
     "name": "stdout",
     "output_type": "stream",
     "text": [
      "    symbol  priceChange priceChangePercent weightedAvgPrice prevClosePrice  \\\n",
      "0   ETHBTC  -0.00005000             -0.079       0.06336652     0.06352000   \n",
      "1   LTCBTC  -0.00006000             -1.881       0.00314189     0.00318900   \n",
      "2   BNBBTC   0.00022300              2.696       0.00839755     0.00827200   \n",
      "3   NEOBTC   0.00000340              1.136       0.00030080     0.00029910   \n",
      "4  QTUMETH   0.00007700              5.556       0.00147650     0.00138900   \n",
      "\n",
      "    lastPrice       lastQty    bidPrice        bidQty    askPrice  ...  \\\n",
      "0  0.06348000    3.10290000  0.06347000   11.32730000  0.06348000  ...   \n",
      "1  0.00312900    3.55200000  0.00312700  147.96200000  0.00312900  ...   \n",
      "2  0.00849500    0.14500000  0.00849500    2.01600000  0.00849600  ...   \n",
      "3  0.00030260   19.67000000  0.00030270   10.18000000  0.00030300  ...   \n",
      "4  0.00146300  389.90000000  0.00145400    4.10000000  0.00146300  ...   \n",
      "\n",
      "    openPrice   highPrice    lowPrice          volume    quoteVolume  \\\n",
      "0  0.06353000  0.06376000  0.06299000  18133.91010000  1149.08268712   \n",
      "1  0.00318900  0.00319000  0.00306900  99842.81300000   313.69498610   \n",
      "2  0.00827200  0.00851300  0.00823700  56665.19400000   475.84872447   \n",
      "3  0.00029920  0.00030980  0.00029300  45303.38000000    13.62707647   \n",
      "4  0.00138600  0.00151600  0.00137300  21198.20000000    31.29905390   \n",
      "\n",
      "        openTime      closeTime    firstId     lastId  count  \n",
      "0  1690806811037  1690893211037  421511638  421548357  36720  \n",
      "1  1690806811422  1690893211422   92892236   92918071  25836  \n",
      "2  1690806810444  1690893210444  225590649  225643470  52822  \n",
      "3  1690806808054  1690893208054   45363573   45367506   3934  \n",
      "4  1690806803960  1690893203960    5397709    5398277    569  \n",
      "\n",
      "[5 rows x 21 columns]\n"
     ]
    }
   ],
   "source": [
    "#Exploring the Dataset to display the first few rows of the DataFrame\n",
    "print(pdframe.head(5))"
   ]
  },
  {
   "cell_type": "code",
   "execution_count": 5,
   "id": "f25da494",
   "metadata": {
    "collapsed": true
   },
   "outputs": [
    {
     "name": "stdout",
     "output_type": "stream",
     "text": [
      "<class 'pandas.core.frame.DataFrame'>\n",
      "RangeIndex: 2266 entries, 0 to 2265\n",
      "Data columns (total 21 columns):\n",
      " #   Column              Non-Null Count  Dtype \n",
      "---  ------              --------------  ----- \n",
      " 0   symbol              2266 non-null   object\n",
      " 1   priceChange         2266 non-null   object\n",
      " 2   priceChangePercent  2266 non-null   object\n",
      " 3   weightedAvgPrice    2266 non-null   object\n",
      " 4   prevClosePrice      2266 non-null   object\n",
      " 5   lastPrice           2266 non-null   object\n",
      " 6   lastQty             2266 non-null   object\n",
      " 7   bidPrice            2266 non-null   object\n",
      " 8   bidQty              2266 non-null   object\n",
      " 9   askPrice            2266 non-null   object\n",
      " 10  askQty              2266 non-null   object\n",
      " 11  openPrice           2266 non-null   object\n",
      " 12  highPrice           2266 non-null   object\n",
      " 13  lowPrice            2266 non-null   object\n",
      " 14  volume              2266 non-null   object\n",
      " 15  quoteVolume         2266 non-null   object\n",
      " 16  openTime            2266 non-null   int64 \n",
      " 17  closeTime           2266 non-null   int64 \n",
      " 18  firstId             2266 non-null   int64 \n",
      " 19  lastId              2266 non-null   int64 \n",
      " 20  count               2266 non-null   int64 \n",
      "dtypes: int64(5), object(16)\n",
      "memory usage: 371.9+ KB\n",
      "None\n"
     ]
    }
   ],
   "source": [
    "# Check the data types and non-null counts\n",
    "print(pdframe.info())"
   ]
  },
  {
   "cell_type": "code",
   "execution_count": 6,
   "id": "86840648",
   "metadata": {
    "collapsed": true
   },
   "outputs": [
    {
     "name": "stdout",
     "output_type": "stream",
     "text": [
      "           openTime     closeTime       firstId        lastId         count\n",
      "count  2.266000e+03  2.266000e+03  2.266000e+03  2.266000e+03  2.266000e+03\n",
      "mean   1.690333e+12  1.690419e+12  1.535226e+07  1.535897e+07  6.701248e+03\n",
      "std    5.989796e+08  5.989796e+08  8.458237e+07  8.460584e+07  6.807388e+04\n",
      "min    1.689574e+12  1.689661e+12 -1.000000e+00 -1.000000e+00  0.000000e+00\n",
      "25%    1.689574e+12  1.689661e+12 -1.000000e+00 -1.000000e+00  0.000000e+00\n",
      "50%    1.690807e+12  1.690893e+12  1.540905e+06  1.541584e+06  3.465000e+02\n",
      "75%    1.690807e+12  1.690893e+12  9.800881e+06  9.802971e+06  2.435000e+03\n",
      "max    1.690807e+12  1.690893e+12  3.181961e+09  3.182651e+09  3.019172e+06\n"
     ]
    }
   ],
   "source": [
    "# Describe the numerical columns\n",
    "print(pdframe.describe())"
   ]
  },
  {
   "cell_type": "markdown",
   "id": "b743d231",
   "metadata": {},
   "source": [
    "## Data Cleaning and Transformation "
   ]
  },
  {
   "cell_type": "code",
   "execution_count": 10,
   "id": "1b80bd0e",
   "metadata": {},
   "outputs": [],
   "source": [
    "#making the timestamp more readable\n",
    "pdframe['timestamp'] = pd.to_datetime(pdframe['closeTime'], unit='ms')"
   ]
  },
  {
   "cell_type": "code",
   "execution_count": 11,
   "id": "d4387652",
   "metadata": {},
   "outputs": [
    {
     "name": "stdout",
     "output_type": "stream",
     "text": [
      "    symbol  priceChange priceChangePercent weightedAvgPrice prevClosePrice  \\\n",
      "0   ETHBTC  -0.00005000             -0.079       0.06336652     0.06352000   \n",
      "1   LTCBTC  -0.00006000             -1.881       0.00314189     0.00318900   \n",
      "2   BNBBTC   0.00022300              2.696       0.00839755     0.00827200   \n",
      "3   NEOBTC   0.00000340              1.136       0.00030080     0.00029910   \n",
      "4  QTUMETH   0.00007700              5.556       0.00147650     0.00138900   \n",
      "\n",
      "    lastPrice       lastQty    bidPrice        bidQty    askPrice  ...  \\\n",
      "0  0.06348000    3.10290000  0.06347000   11.32730000  0.06348000  ...   \n",
      "1  0.00312900    3.55200000  0.00312700  147.96200000  0.00312900  ...   \n",
      "2  0.00849500    0.14500000  0.00849500    2.01600000  0.00849600  ...   \n",
      "3  0.00030260   19.67000000  0.00030270   10.18000000  0.00030300  ...   \n",
      "4  0.00146300  389.90000000  0.00145400    4.10000000  0.00146300  ...   \n",
      "\n",
      "    highPrice    lowPrice          volume    quoteVolume       openTime  \\\n",
      "0  0.06376000  0.06299000  18133.91010000  1149.08268712  1690806811037   \n",
      "1  0.00319000  0.00306900  99842.81300000   313.69498610  1690806811422   \n",
      "2  0.00851300  0.00823700  56665.19400000   475.84872447  1690806810444   \n",
      "3  0.00030980  0.00029300  45303.38000000    13.62707647  1690806808054   \n",
      "4  0.00151600  0.00137300  21198.20000000    31.29905390  1690806803960   \n",
      "\n",
      "       closeTime    firstId     lastId  count               timestamp  \n",
      "0  1690893211037  421511638  421548357  36720 2023-08-01 12:33:31.037  \n",
      "1  1690893211422   92892236   92918071  25836 2023-08-01 12:33:31.422  \n",
      "2  1690893210444  225590649  225643470  52822 2023-08-01 12:33:30.444  \n",
      "3  1690893208054   45363573   45367506   3934 2023-08-01 12:33:28.054  \n",
      "4  1690893203960    5397709    5398277    569 2023-08-01 12:33:23.960  \n",
      "\n",
      "[5 rows x 22 columns]\n"
     ]
    }
   ],
   "source": [
    "print(pdframe.head(5))"
   ]
  },
  {
   "cell_type": "code",
   "execution_count": 12,
   "id": "22c3dbe8",
   "metadata": {},
   "outputs": [],
   "source": [
    "#Converting numeric strings to numeric values\n",
    "numeric_cols = ['lastPrice', 'bidPrice', 'askPrice', 'highPrice', 'lowPrice', 'volume', 'quoteVolume']\n",
    "pdframe[numeric_cols] = pdframe[numeric_cols].apply(pd.to_numeric)\n"
   ]
  },
  {
   "cell_type": "code",
   "execution_count": 13,
   "id": "79333a24",
   "metadata": {
    "collapsed": true
   },
   "outputs": [
    {
     "name": "stdout",
     "output_type": "stream",
     "text": [
      "    symbol  priceChange priceChangePercent weightedAvgPrice prevClosePrice  \\\n",
      "0   ETHBTC  -0.00005000             -0.079       0.06336652     0.06352000   \n",
      "1   LTCBTC  -0.00006000             -1.881       0.00314189     0.00318900   \n",
      "2   BNBBTC   0.00022300              2.696       0.00839755     0.00827200   \n",
      "3   NEOBTC   0.00000340              1.136       0.00030080     0.00029910   \n",
      "4  QTUMETH   0.00007700              5.556       0.00147650     0.00138900   \n",
      "\n",
      "   lastPrice       lastQty  bidPrice        bidQty  askPrice  ... highPrice  \\\n",
      "0   0.063480    3.10290000  0.063470   11.32730000  0.063480  ...  0.063760   \n",
      "1   0.003129    3.55200000  0.003127  147.96200000  0.003129  ...  0.003190   \n",
      "2   0.008495    0.14500000  0.008495    2.01600000  0.008496  ...  0.008513   \n",
      "3   0.000303   19.67000000  0.000303   10.18000000  0.000303  ...  0.000310   \n",
      "4   0.001463  389.90000000  0.001454    4.10000000  0.001463  ...  0.001516   \n",
      "\n",
      "   lowPrice      volume  quoteVolume       openTime      closeTime    firstId  \\\n",
      "0  0.062990  18133.9101  1149.082687  1690806811037  1690893211037  421511638   \n",
      "1  0.003069  99842.8130   313.694986  1690806811422  1690893211422   92892236   \n",
      "2  0.008237  56665.1940   475.848724  1690806810444  1690893210444  225590649   \n",
      "3  0.000293  45303.3800    13.627076  1690806808054  1690893208054   45363573   \n",
      "4  0.001373  21198.2000    31.299054  1690806803960  1690893203960    5397709   \n",
      "\n",
      "      lastId  count               timestamp  \n",
      "0  421548357  36720 2023-08-01 12:33:31.037  \n",
      "1   92918071  25836 2023-08-01 12:33:31.422  \n",
      "2  225643470  52822 2023-08-01 12:33:30.444  \n",
      "3   45367506   3934 2023-08-01 12:33:28.054  \n",
      "4    5398277    569 2023-08-01 12:33:23.960  \n",
      "\n",
      "[5 rows x 22 columns]\n"
     ]
    }
   ],
   "source": [
    "print(pdframe.head(5))"
   ]
  },
  {
   "cell_type": "markdown",
   "id": "61ca0ef7",
   "metadata": {},
   "source": [
    "## Performing Analysis"
   ]
  },
  {
   "cell_type": "code",
   "execution_count": 23,
   "id": "337f2215",
   "metadata": {},
   "outputs": [
    {
     "name": "stdout",
     "output_type": "stream",
     "text": [
      "The trading pair with the highest 24-hour volume is PEPEUSDT.\n"
     ]
    }
   ],
   "source": [
    "#The trading pair with the highest 24-hour volume\n",
    "max_volume_pair = pdframe.loc[pdframe['volume'].idxmax(), 'symbol']\n",
    "print(f\"The trading pair with the highest 24-hour volume is {max_volume_pair}.\")"
   ]
  },
  {
   "cell_type": "code",
   "execution_count": 24,
   "id": "4c187b79",
   "metadata": {},
   "outputs": [
    {
     "name": "stdout",
     "output_type": "stream",
     "text": [
      "The average percentage change in price for all trading pairs is -0.95%.\n"
     ]
    }
   ],
   "source": [
    "#Calculating the average price change percentage for all trading pairs\n",
    "pdframe['priceChangePercent'] = pdframe['priceChangePercent'].astype(float)\n",
    "average_percentage_price_change = pdframe['priceChangePercent'].mean()\n",
    "print(f\"The average percentage change in price for all trading pairs is {average_percentage_price_change:.2f}%.\")"
   ]
  },
  {
   "cell_type": "code",
   "execution_count": 18,
   "id": "4b8dcdec",
   "metadata": {},
   "outputs": [
    {
     "name": "stdout",
     "output_type": "stream",
     "text": [
      "Top 5 Trading Pairs by 24-hour Volume:\n",
      "        symbol        volume\n",
      "2213  PEPEUSDT  1.707653e+13\n",
      "2218   PEPETRY  4.962568e+12\n",
      "1419  SHIBUSDT  3.708378e+12\n",
      "1420  SHIBBUSD  5.411188e+11\n",
      "1908  BTTCUSDT  4.069952e+11\n"
     ]
    }
   ],
   "source": [
    "#Top Trading Pairs by 24-hour Volume\n",
    "top_5_pairs = pdframe.nlargest(5, 'volume')[['symbol', 'volume']]\n",
    "print(\"Top 5 Trading Pairs by 24-hour Volume:\")\n",
    "print(top_5_pairs)"
   ]
  },
  {
   "cell_type": "code",
   "execution_count": 25,
   "id": "82c90b1f",
   "metadata": {},
   "outputs": [
    {
     "name": "stdout",
     "output_type": "stream",
     "text": [
      "Highest 24-hour Price Change Percentage: 39.76% for ALPACABTC\n",
      "Lowest 24-hour Price Change Percentage: -12.20% for VGXUSDT\n"
     ]
    }
   ],
   "source": [
    "#Percantage change of the Highest and Lowest 24-hour Price\n",
    "\n",
    "highest_pr_change_pair = pdframe.nlargest(1, 'priceChangePercent')[['symbol', 'priceChangePercent']]\n",
    "lowest_pr_change_pair = pdframe.nsmallest(1, 'priceChangePercent')[['symbol', 'priceChangePercent']]\n",
    "\n",
    "print(f\"Highest 24-hour Price Change Percentage: {highest_pr_change_pair.iloc[0]['priceChangePercent']:.2f}% for {highest_pr_change_pair.iloc[0]['symbol']}\")\n",
    "print(f\"Lowest 24-hour Price Change Percentage: {lowest_pr_change_pair.iloc[0]['priceChangePercent']:.2f}% for {lowest_pr_change_pair.iloc[0]['symbol']}\")\n"
   ]
  },
  {
   "cell_type": "code",
   "execution_count": 27,
   "id": "fccb3314",
   "metadata": {},
   "outputs": [
    {
     "name": "stdout",
     "output_type": "stream",
     "text": [
      "Average 24-hour Trading Volume is: 12423858923.16\n",
      "Median 24-hour Trading Volume is: 19691.80\n"
     ]
    }
   ],
   "source": [
    "#Average and Median 24-hour Trading Volume\n",
    "avg_vol = pdframe['volume'].mean()\n",
    "median_vol = pdframe['volume'].median()\n",
    "\n",
    "print(f\"Average 24-hour Trading Volume is: {avg_vol:.2f}\")\n",
    "print(f\"Median 24-hour Trading Volume is: {median_vol:.2f}\")"
   ]
  },
  {
   "cell_type": "code",
   "execution_count": null,
   "id": "74c722aa",
   "metadata": {},
   "outputs": [],
   "source": []
  }
 ],
 "metadata": {
  "kernelspec": {
   "display_name": "Python 3 (ipykernel)",
   "language": "python",
   "name": "python3"
  },
  "language_info": {
   "codemirror_mode": {
    "name": "ipython",
    "version": 3
   },
   "file_extension": ".py",
   "mimetype": "text/x-python",
   "name": "python",
   "nbconvert_exporter": "python",
   "pygments_lexer": "ipython3",
   "version": "3.9.7"
  }
 },
 "nbformat": 4,
 "nbformat_minor": 5
}
