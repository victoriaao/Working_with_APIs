{
 "cells": [
  {
   "cell_type": "code",
   "execution_count": 1,
   "id": "f161956c",
   "metadata": {},
   "outputs": [],
   "source": [
    "#Importing Libraries\n",
    "import requests \n",
    "import pandas as pd\n",
    "import json"
   ]
  },
  {
   "cell_type": "code",
   "execution_count": 2,
   "id": "05f8aaaf",
   "metadata": {},
   "outputs": [],
   "source": [
    "#Fetching Data from the API\n",
    "url = 'https://api2.binance.com/api/v3/ticker/24hr'\n",
    "output = requests.get(url)\n",
    "data = output.json()"
   ]
  },
  {
   "cell_type": "code",
   "execution_count": 3,
   "id": "c89cb44c",
   "metadata": {},
   "outputs": [],
   "source": [
    "#Putting data into DataFrame\n",
    "pdframe = pd.DataFrame(data)"
   ]
  },
  {
   "cell_type": "code",
   "execution_count": 4,
   "id": "b6c7b461",
   "metadata": {
    "collapsed": true
   },
   "outputs": [
    {
     "name": "stdout",
     "output_type": "stream",
     "text": [
      "    symbol  priceChange priceChangePercent weightedAvgPrice prevClosePrice  \\\n",
      "0   ETHBTC  -0.00005000             -0.079       0.06336652     0.06352000   \n",
      "1   LTCBTC  -0.00006000             -1.881       0.00314189     0.00318900   \n",
      "2   BNBBTC   0.00022300              2.696       0.00839755     0.00827200   \n",
      "3   NEOBTC   0.00000340              1.136       0.00030080     0.00029910   \n",
      "4  QTUMETH   0.00007700              5.556       0.00147650     0.00138900   \n",
      "\n",
      "    lastPrice       lastQty    bidPrice        bidQty    askPrice  ...  \\\n",
      "0  0.06348000    3.10290000  0.06347000   11.32730000  0.06348000  ...   \n",
      "1  0.00312900    3.55200000  0.00312700  147.96200000  0.00312900  ...   \n",
      "2  0.00849500    0.14500000  0.00849500    2.01600000  0.00849600  ...   \n",
      "3  0.00030260   19.67000000  0.00030270   10.18000000  0.00030300  ...   \n",
      "4  0.00146300  389.90000000  0.00145400    4.10000000  0.00146300  ...   \n",
      "\n",
      "    openPrice   highPrice    lowPrice          volume    quoteVolume  \\\n",
      "0  0.06353000  0.06376000  0.06299000  18133.91010000  1149.08268712   \n",
      "1  0.00318900  0.00319000  0.00306900  99842.81300000   313.69498610   \n",
      "2  0.00827200  0.00851300  0.00823700  56665.19400000   475.84872447   \n",
      "3  0.00029920  0.00030980  0.00029300  45303.38000000    13.62707647   \n",
      "4  0.00138600  0.00151600  0.00137300  21198.20000000    31.29905390   \n",
      "\n",
      "        openTime      closeTime    firstId     lastId  count  \n",
      "0  1690806811037  1690893211037  421511638  421548357  36720  \n",
      "1  1690806811422  1690893211422   92892236   92918071  25836  \n",
      "2  1690806810444  1690893210444  225590649  225643470  52822  \n",
      "3  1690806808054  1690893208054   45363573   45367506   3934  \n",
      "4  1690806803960  1690893203960    5397709    5398277    569  \n",
      "\n",
      "[5 rows x 21 columns]\n"
     ]
    }
   ],
   "source": [
    "#Exploring the Dataset to display the first few rows of the DataFrame\n",
    "print(pdframe.head(5))"
   ]
  },
  {
   "cell_type": "code",
   "execution_count": 5,
   "id": "18ce2bac",
   "metadata": {
    "collapsed": true
   },
   "outputs": [
    {
     "name": "stdout",
     "output_type": "stream",
     "text": [
      "<class 'pandas.core.frame.DataFrame'>\n",
      "RangeIndex: 2266 entries, 0 to 2265\n",
      "Data columns (total 21 columns):\n",
      " #   Column              Non-Null Count  Dtype \n",
      "---  ------              --------------  ----- \n",
      " 0   symbol              2266 non-null   object\n",
      " 1   priceChange         2266 non-null   object\n",
      " 2   priceChangePercent  2266 non-null   object\n",
      " 3   weightedAvgPrice    2266 non-null   object\n",
      " 4   prevClosePrice      2266 non-null   object\n",
      " 5   lastPrice           2266 non-null   object\n",
      " 6   lastQty             2266 non-null   object\n",
      " 7   bidPrice            2266 non-null   object\n",
      " 8   bidQty              2266 non-null   object\n",
      " 9   askPrice            2266 non-null   object\n",
      " 10  askQty              2266 non-null   object\n",
      " 11  openPrice           2266 non-null   object\n",
      " 12  highPrice           2266 non-null   object\n",
      " 13  lowPrice            2266 non-null   object\n",
      " 14  volume              2266 non-null   object\n",
      " 15  quoteVolume         2266 non-null   object\n",
      " 16  openTime            2266 non-null   int64 \n",
      " 17  closeTime           2266 non-null   int64 \n",
      " 18  firstId             2266 non-null   int64 \n",
      " 19  lastId              2266 non-null   int64 \n",
      " 20  count               2266 non-null   int64 \n",
      "dtypes: int64(5), object(16)\n",
      "memory usage: 371.9+ KB\n",
      "None\n"
     ]
    }
   ],
   "source": [
    "# Check the data types and non-null counts\n",
    "print(pdframe.info())"
   ]
  },
  {
   "cell_type": "code",
   "execution_count": 6,
   "id": "85988731",
   "metadata": {
    "collapsed": true
   },
   "outputs": [
    {
     "name": "stdout",
     "output_type": "stream",
     "text": [
      "           openTime     closeTime       firstId        lastId         count\n",
      "count  2.266000e+03  2.266000e+03  2.266000e+03  2.266000e+03  2.266000e+03\n",
      "mean   1.690333e+12  1.690419e+12  1.535226e+07  1.535897e+07  6.701248e+03\n",
      "std    5.989796e+08  5.989796e+08  8.458237e+07  8.460584e+07  6.807388e+04\n",
      "min    1.689574e+12  1.689661e+12 -1.000000e+00 -1.000000e+00  0.000000e+00\n",
      "25%    1.689574e+12  1.689661e+12 -1.000000e+00 -1.000000e+00  0.000000e+00\n",
      "50%    1.690807e+12  1.690893e+12  1.540905e+06  1.541584e+06  3.465000e+02\n",
      "75%    1.690807e+12  1.690893e+12  9.800881e+06  9.802971e+06  2.435000e+03\n",
      "max    1.690807e+12  1.690893e+12  3.181961e+09  3.182651e+09  3.019172e+06\n"
     ]
    }
   ],
   "source": [
    "# Describe the numerical columns\n",
    "print(pdframe.describe())"
   ]
  },
  {
   "cell_type": "code",
   "execution_count": 7,
   "id": "eff0ff92",
   "metadata": {},
   "outputs": [],
   "source": [
    "##Data Cleaning and Transformation "
   ]
  },
  {
   "cell_type": "code",
   "execution_count": null,
   "id": "3887e719",
   "metadata": {},
   "outputs": [],
   "source": []
  }
 ],
 "metadata": {
  "kernelspec": {
   "display_name": "Python 3 (ipykernel)",
   "language": "python",
   "name": "python3"
  },
  "language_info": {
   "codemirror_mode": {
    "name": "ipython",
    "version": 3
   },
   "file_extension": ".py",
   "mimetype": "text/x-python",
   "name": "python",
   "nbconvert_exporter": "python",
   "pygments_lexer": "ipython3",
   "version": "3.9.7"
  }
 },
 "nbformat": 4,
 "nbformat_minor": 5
}
