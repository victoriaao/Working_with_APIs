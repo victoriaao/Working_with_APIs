{
 "cells": [
  {
   "cell_type": "code",
   "execution_count": 1,
   "id": "d374c785",
   "metadata": {},
   "outputs": [],
   "source": [
    "#Importing Libraries\n",
    "import requests \n",
    "import pandas as pd\n",
    "import json\n",
    "import matplotlib.pyplot as plt"
   ]
  },
  {
   "cell_type": "code",
   "execution_count": 2,
   "id": "a5d1ed5c",
   "metadata": {},
   "outputs": [],
   "source": [
    "#Fetching Data from the API\n",
    "url = 'https://api2.binance.com/api/v3/ticker/24hr'\n",
    "output = requests.get(url)\n",
    "data = output.json()"
   ]
  },
  {
   "cell_type": "code",
   "execution_count": 3,
   "id": "988b66c0",
   "metadata": {},
   "outputs": [],
   "source": [
    "#Putting data into DataFrame\n",
    "pdframe = pd.DataFrame(data)"
   ]
  },
  {
   "cell_type": "code",
   "execution_count": 4,
   "id": "2cc58bb8",
   "metadata": {
    "collapsed": true
   },
   "outputs": [
    {
     "name": "stdout",
     "output_type": "stream",
     "text": [
      "    symbol  priceChange priceChangePercent weightedAvgPrice prevClosePrice  \\\n",
      "0   ETHBTC  -0.00011000             -0.173       0.06336444     0.06353000   \n",
      "1   LTCBTC   0.00007400              2.352       0.00316184     0.00314500   \n",
      "2   BNBBTC   0.00017500              2.110       0.00840710     0.00829400   \n",
      "3   NEOBTC   0.00000460              1.546       0.00030108     0.00029760   \n",
      "4  QTUMETH   0.00012200              8.834       0.00147790     0.00138100   \n",
      "\n",
      "    lastPrice     lastQty    bidPrice        bidQty    askPrice  ...  \\\n",
      "0  0.06342000  0.05400000  0.06342000   10.09230000  0.06343000  ...   \n",
      "1  0.00322000  2.56300000  0.00321900    1.17500000  0.00322000  ...   \n",
      "2  0.00846800  0.03900000  0.00846700    7.63000000  0.00846800  ...   \n",
      "3  0.00030210  1.38000000  0.00030200    4.38000000  0.00030240  ...   \n",
      "4  0.00150300  4.10000000  0.00149700  395.10000000  0.00150400  ...   \n",
      "\n",
      "    openPrice   highPrice    lowPrice           volume    quoteVolume  \\\n",
      "0  0.06353000  0.06376000  0.06299000   18082.02920000  1145.75765735   \n",
      "1  0.00314600  0.00325700  0.00306900  123277.88300000   389.78538631   \n",
      "2  0.00829300  0.00851300  0.00823700   59204.90600000   497.74132772   \n",
      "3  0.00029750  0.00030980  0.00029300   46447.18000000    13.98440234   \n",
      "4  0.00138100  0.00151600  0.00137300   23525.70000000    34.76874560   \n",
      "\n",
      "        openTime      closeTime    firstId     lastId  count  \n",
      "0  1690815295732  1690901695732  421515340  421550887  35548  \n",
      "1  1690815296720  1690901696720   92897309   92928334  31026  \n",
      "2  1690815297203  1690901697203  225593496  225648801  55306  \n",
      "3  1690815293096  1690901693096   45363789   45367953   4165  \n",
      "4  1690815282636  1690901682636    5397711    5398360    650  \n",
      "\n",
      "[5 rows x 21 columns]\n"
     ]
    }
   ],
   "source": [
    "#Exploring the Dataset to display the first few rows of the DataFrame\n",
    "print(pdframe.head(5))"
   ]
  },
  {
   "cell_type": "code",
   "execution_count": 5,
   "id": "d606a811",
   "metadata": {
    "collapsed": true
   },
   "outputs": [
    {
     "name": "stdout",
     "output_type": "stream",
     "text": [
      "<class 'pandas.core.frame.DataFrame'>\n",
      "RangeIndex: 2266 entries, 0 to 2265\n",
      "Data columns (total 21 columns):\n",
      " #   Column              Non-Null Count  Dtype \n",
      "---  ------              --------------  ----- \n",
      " 0   symbol              2266 non-null   object\n",
      " 1   priceChange         2266 non-null   object\n",
      " 2   priceChangePercent  2266 non-null   object\n",
      " 3   weightedAvgPrice    2266 non-null   object\n",
      " 4   prevClosePrice      2266 non-null   object\n",
      " 5   lastPrice           2266 non-null   object\n",
      " 6   lastQty             2266 non-null   object\n",
      " 7   bidPrice            2266 non-null   object\n",
      " 8   bidQty              2266 non-null   object\n",
      " 9   askPrice            2266 non-null   object\n",
      " 10  askQty              2266 non-null   object\n",
      " 11  openPrice           2266 non-null   object\n",
      " 12  highPrice           2266 non-null   object\n",
      " 13  lowPrice            2266 non-null   object\n",
      " 14  volume              2266 non-null   object\n",
      " 15  quoteVolume         2266 non-null   object\n",
      " 16  openTime            2266 non-null   int64 \n",
      " 17  closeTime           2266 non-null   int64 \n",
      " 18  firstId             2266 non-null   int64 \n",
      " 19  lastId              2266 non-null   int64 \n",
      " 20  count               2266 non-null   int64 \n",
      "dtypes: int64(5), object(16)\n",
      "memory usage: 371.9+ KB\n",
      "None\n"
     ]
    }
   ],
   "source": [
    "# Check the data types and non-null counts\n",
    "print(pdframe.info())"
   ]
  },
  {
   "cell_type": "code",
   "execution_count": 6,
   "id": "5986ed2b",
   "metadata": {
    "collapsed": true
   },
   "outputs": [
    {
     "name": "stdout",
     "output_type": "stream",
     "text": [
      "           openTime     closeTime       firstId        lastId         count\n",
      "count  2.266000e+03  2.266000e+03  2.266000e+03  2.266000e+03  2.266000e+03\n",
      "mean   1.690338e+12  1.690424e+12  1.535301e+07  1.535962e+07  6.610899e+03\n",
      "std    6.033393e+08  6.033393e+08  8.458493e+07  8.460839e+07  6.683100e+04\n",
      "min    1.689574e+12  1.689660e+12 -1.000000e+00 -1.000000e+00  0.000000e+00\n",
      "25%    1.689574e+12  1.689660e+12 -1.000000e+00 -1.000000e+00  0.000000e+00\n",
      "50%    1.690815e+12  1.690902e+12  1.540969e+06  1.541607e+06  3.475000e+02\n",
      "75%    1.690815e+12  1.690902e+12  9.801198e+06  9.803093e+06  2.404000e+03\n",
      "max    1.690815e+12  1.690902e+12  3.182033e+09  3.182732e+09  2.952090e+06\n"
     ]
    }
   ],
   "source": [
    "# Describe the numerical columns\n",
    "print(pdframe.describe())"
   ]
  },
  {
   "cell_type": "markdown",
   "id": "97128182",
   "metadata": {},
   "source": [
    "## Data Cleaning and Transformation "
   ]
  },
  {
   "cell_type": "code",
   "execution_count": 7,
   "id": "6e4380e3",
   "metadata": {},
   "outputs": [],
   "source": [
    "#making the timestamp more readable\n",
    "pdframe['timestamp'] = pd.to_datetime(pdframe['closeTime'], unit='ms')"
   ]
  },
  {
   "cell_type": "code",
   "execution_count": 8,
   "id": "a082b42d",
   "metadata": {
    "collapsed": true
   },
   "outputs": [
    {
     "name": "stdout",
     "output_type": "stream",
     "text": [
      "    symbol  priceChange priceChangePercent weightedAvgPrice prevClosePrice  \\\n",
      "0   ETHBTC  -0.00011000             -0.173       0.06336444     0.06353000   \n",
      "1   LTCBTC   0.00007400              2.352       0.00316184     0.00314500   \n",
      "2   BNBBTC   0.00017500              2.110       0.00840710     0.00829400   \n",
      "3   NEOBTC   0.00000460              1.546       0.00030108     0.00029760   \n",
      "4  QTUMETH   0.00012200              8.834       0.00147790     0.00138100   \n",
      "\n",
      "    lastPrice     lastQty    bidPrice        bidQty    askPrice  ...  \\\n",
      "0  0.06342000  0.05400000  0.06342000   10.09230000  0.06343000  ...   \n",
      "1  0.00322000  2.56300000  0.00321900    1.17500000  0.00322000  ...   \n",
      "2  0.00846800  0.03900000  0.00846700    7.63000000  0.00846800  ...   \n",
      "3  0.00030210  1.38000000  0.00030200    4.38000000  0.00030240  ...   \n",
      "4  0.00150300  4.10000000  0.00149700  395.10000000  0.00150400  ...   \n",
      "\n",
      "    highPrice    lowPrice           volume    quoteVolume       openTime  \\\n",
      "0  0.06376000  0.06299000   18082.02920000  1145.75765735  1690815295732   \n",
      "1  0.00325700  0.00306900  123277.88300000   389.78538631  1690815296720   \n",
      "2  0.00851300  0.00823700   59204.90600000   497.74132772  1690815297203   \n",
      "3  0.00030980  0.00029300   46447.18000000    13.98440234  1690815293096   \n",
      "4  0.00151600  0.00137300   23525.70000000    34.76874560  1690815282636   \n",
      "\n",
      "       closeTime    firstId     lastId  count               timestamp  \n",
      "0  1690901695732  421515340  421550887  35548 2023-08-01 14:54:55.732  \n",
      "1  1690901696720   92897309   92928334  31026 2023-08-01 14:54:56.720  \n",
      "2  1690901697203  225593496  225648801  55306 2023-08-01 14:54:57.203  \n",
      "3  1690901693096   45363789   45367953   4165 2023-08-01 14:54:53.096  \n",
      "4  1690901682636    5397711    5398360    650 2023-08-01 14:54:42.636  \n",
      "\n",
      "[5 rows x 22 columns]\n"
     ]
    }
   ],
   "source": [
    "print(pdframe.head(5))"
   ]
  },
  {
   "cell_type": "code",
   "execution_count": 9,
   "id": "2110ff7c",
   "metadata": {},
   "outputs": [],
   "source": [
    "#Converting numeric strings to numeric values\n",
    "numeric_cols = ['lastPrice', 'bidPrice', 'askPrice', 'highPrice', 'lowPrice', 'volume', 'quoteVolume']\n",
    "pdframe[numeric_cols] = pdframe[numeric_cols].apply(pd.to_numeric)\n"
   ]
  },
  {
   "cell_type": "code",
   "execution_count": 10,
   "id": "5f795000",
   "metadata": {
    "collapsed": true
   },
   "outputs": [
    {
     "name": "stdout",
     "output_type": "stream",
     "text": [
      "    symbol  priceChange priceChangePercent weightedAvgPrice prevClosePrice  \\\n",
      "0   ETHBTC  -0.00011000             -0.173       0.06336444     0.06353000   \n",
      "1   LTCBTC   0.00007400              2.352       0.00316184     0.00314500   \n",
      "2   BNBBTC   0.00017500              2.110       0.00840710     0.00829400   \n",
      "3   NEOBTC   0.00000460              1.546       0.00030108     0.00029760   \n",
      "4  QTUMETH   0.00012200              8.834       0.00147790     0.00138100   \n",
      "\n",
      "   lastPrice     lastQty  bidPrice        bidQty  askPrice  ... highPrice  \\\n",
      "0   0.063420  0.05400000  0.063420   10.09230000  0.063430  ...  0.063760   \n",
      "1   0.003220  2.56300000  0.003219    1.17500000  0.003220  ...  0.003257   \n",
      "2   0.008468  0.03900000  0.008467    7.63000000  0.008468  ...  0.008513   \n",
      "3   0.000302  1.38000000  0.000302    4.38000000  0.000302  ...  0.000310   \n",
      "4   0.001503  4.10000000  0.001497  395.10000000  0.001504  ...  0.001516   \n",
      "\n",
      "   lowPrice       volume  quoteVolume       openTime      closeTime  \\\n",
      "0  0.062990   18082.0292  1145.757657  1690815295732  1690901695732   \n",
      "1  0.003069  123277.8830   389.785386  1690815296720  1690901696720   \n",
      "2  0.008237   59204.9060   497.741328  1690815297203  1690901697203   \n",
      "3  0.000293   46447.1800    13.984402  1690815293096  1690901693096   \n",
      "4  0.001373   23525.7000    34.768746  1690815282636  1690901682636   \n",
      "\n",
      "     firstId     lastId  count               timestamp  \n",
      "0  421515340  421550887  35548 2023-08-01 14:54:55.732  \n",
      "1   92897309   92928334  31026 2023-08-01 14:54:56.720  \n",
      "2  225593496  225648801  55306 2023-08-01 14:54:57.203  \n",
      "3   45363789   45367953   4165 2023-08-01 14:54:53.096  \n",
      "4    5397711    5398360    650 2023-08-01 14:54:42.636  \n",
      "\n",
      "[5 rows x 22 columns]\n"
     ]
    }
   ],
   "source": [
    "print(pdframe.head(5))"
   ]
  },
  {
   "cell_type": "markdown",
   "id": "0d2c60e0",
   "metadata": {},
   "source": [
    "## Performing Analysis"
   ]
  },
  {
   "cell_type": "code",
   "execution_count": 11,
   "id": "2233e368",
   "metadata": {},
   "outputs": [
    {
     "name": "stdout",
     "output_type": "stream",
     "text": [
      "The trading pair with the highest 24-hour volume is PEPEUSDT.\n"
     ]
    }
   ],
   "source": [
    "#The trading pair with the highest 24-hour volume\n",
    "max_volume_pair = pdframe.loc[pdframe['volume'].idxmax(), 'symbol']\n",
    "print(f\"The trading pair with the highest 24-hour volume is {max_volume_pair}.\")"
   ]
  },
  {
   "cell_type": "code",
   "execution_count": 12,
   "id": "201bc73d",
   "metadata": {},
   "outputs": [
    {
     "name": "stdout",
     "output_type": "stream",
     "text": [
      "The average percentage change in price for all trading pairs is -0.74%.\n"
     ]
    }
   ],
   "source": [
    "#Calculating the average price change percentage for all trading pairs\n",
    "pdframe['priceChangePercent'] = pdframe['priceChangePercent'].astype(float)\n",
    "average_percentage_price_change = pdframe['priceChangePercent'].mean()\n",
    "print(f\"The average percentage change in price for all trading pairs is {average_percentage_price_change:.2f}%.\")"
   ]
  },
  {
   "cell_type": "code",
   "execution_count": 13,
   "id": "f20bd314",
   "metadata": {},
   "outputs": [
    {
     "name": "stdout",
     "output_type": "stream",
     "text": [
      "Top 5 Trading Pairs by 24-hour Volume:\n",
      "        symbol        volume\n",
      "2213  PEPEUSDT  1.655378e+13\n",
      "2218   PEPETRY  4.971614e+12\n",
      "1419  SHIBUSDT  3.498777e+12\n",
      "1420  SHIBBUSD  4.963891e+11\n",
      "1908  BTTCUSDT  3.651625e+11\n"
     ]
    }
   ],
   "source": [
    "#Top Trading Pairs by 24-hour Volume\n",
    "top_5_pairs = pdframe.nlargest(5, 'volume')[['symbol', 'volume']]\n",
    "print(\"Top 5 Trading Pairs by 24-hour Volume:\")\n",
    "print(top_5_pairs)"
   ]
  },
  {
   "cell_type": "code",
   "execution_count": 14,
   "id": "d90418d6",
   "metadata": {},
   "outputs": [
    {
     "name": "stdout",
     "output_type": "stream",
     "text": [
      "Highest 24-hour Price Change Percentage: 37.73% for ALPACABTC\n",
      "Lowest 24-hour Price Change Percentage: -11.25% for COMPTUSD\n"
     ]
    }
   ],
   "source": [
    "#Percantage change of the Highest and Lowest 24-hour Price\n",
    "\n",
    "highest_pr_change_pair = pdframe.nlargest(1, 'priceChangePercent')[['symbol', 'priceChangePercent']]\n",
    "lowest_pr_change_pair = pdframe.nsmallest(1, 'priceChangePercent')[['symbol', 'priceChangePercent']]\n",
    "\n",
    "print(f\"Highest 24-hour Price Change Percentage: {highest_pr_change_pair.iloc[0]['priceChangePercent']:.2f}% for {highest_pr_change_pair.iloc[0]['symbol']}\")\n",
    "print(f\"Lowest 24-hour Price Change Percentage: {lowest_pr_change_pair.iloc[0]['priceChangePercent']:.2f}% for {lowest_pr_change_pair.iloc[0]['symbol']}\")\n"
   ]
  },
  {
   "cell_type": "code",
   "execution_count": 15,
   "id": "750c474e",
   "metadata": {},
   "outputs": [
    {
     "name": "stdout",
     "output_type": "stream",
     "text": [
      "Average 24-hour Trading Volume is: 12013310924.89\n",
      "Median 24-hour Trading Volume is: 18620.35\n"
     ]
    }
   ],
   "source": [
    "#Average and Median 24-hour Trading Volume\n",
    "avg_vol = pdframe['volume'].mean()\n",
    "median_vol = pdframe['volume'].median()\n",
    "\n",
    "print(f\"Average 24-hour Trading Volume is: {avg_vol:.2f}\")\n",
    "print(f\"Median 24-hour Trading Volume is: {median_vol:.2f}\")"
   ]
  },
  {
   "cell_type": "code",
   "execution_count": 18,
   "id": "f539bade",
   "metadata": {},
   "outputs": [
    {
     "data": {
      "image/png": "[encoded data removed]",
      "text/plain": [
       "<Figure size 864x432 with 1 Axes>"
      ]
     },
     "metadata": {
      "needs_background": "light"
     },
     "output_type": "display_data"
    }
   ],
   "source": [
    "#Plot a bar chart to visualize the 24-hour trading volume for each trading pair\n",
    "plt.figure(figsize=(12, 6))\n",
    "plt.bar(pdframe['symbol'], pdframe['volume'], color='b')\n",
    "plt.xlabel('Trading Pair')\n",
    "plt.ylabel('24-hour Volume')\n",
    "plt.title('24-hour Trading Volume for Each Trading Pair')\n",
    "plt.xticks(rotation=90)\n",
    "plt.tight_layout()\n",
    "plt.show()"
   ]
  },
  {
   "cell_type": "code",
   "execution_count": 20,
   "id": "215d6269",
   "metadata": {},
   "outputs": [
    {
     "data": {
      "image/png": "[encoded data removed]",
      "text/plain": [
       "<Figure size 720x432 with 1 Axes>"
      ]
     },
     "metadata": {
      "needs_background": "light"
     },
     "output_type": "display_data"
    }
   ],
   "source": [
    "plt.figure(figsize=(10, 6))\n",
    "plt.hist(pdframe['priceChangePercent'], bins=30, color='blue')\n",
    "plt.xlabel('Price Change Percentage')\n",
    "plt.ylabel('Frequency')\n",
    "plt.title('Distribution of 24-hour Price Change Percentage')\n",
    "plt.grid(True)\n",
    "plt.show()"
   ]
  },
  {
   "cell_type": "code",
   "execution_count": 21,
   "id": "77b14133",
   "metadata": {},
   "outputs": [
    {
     "data": {
      "image/png": "[encoded data removed]",
      "text/plain": [
       "<Figure size 576x432 with 2 Axes>"
      ]
     },
     "metadata": {
      "needs_background": "light"
     },
     "output_type": "display_data"
    }
   ],
   "source": [
    "numeric_columns = ['lastPrice', 'bidPrice', 'askPrice', 'highPrice', 'lowPrice', 'volume', 'quoteVolume']\n",
    "correlation_matrix = pdframe[numeric_columns].corr()\n",
    "\n",
    "plt.figure(figsize=(8, 6))\n",
    "plt.imshow(correlation_matrix, cmap='coolwarm', interpolation='nearest')\n",
    "plt.colorbar()\n",
    "plt.xticks(range(len(numeric_columns)), numeric_columns, rotation=45)\n",
    "plt.yticks(range(len(numeric_columns)), numeric_columns)\n",
    "plt.title('Correlation Matrix')\n",
    "plt.show()"
   ]
  },
  {
   "cell_type": "code",
   "execution_count": 22,
   "id": "7e6f70e1",
   "metadata": {},
   "outputs": [
    {
     "data": {
      "image/png": "[encoded data removed]",
      "text/plain": [
       "<Figure size 864x432 with 1 Axes>"
      ]
     },
     "metadata": {
      "needs_background": "light"
     },
     "output_type": "display_data"
    }
   ],
   "source": [
    "plt.figure(figsize=(12, 6))\n",
    "plt.plot(pdframe['timestamp'], pdframe['lastPrice'], color='b')\n",
    "plt.xlabel('Timestamp')\n",
    "plt.ylabel('Last Price')\n",
    "plt.title('Price Trend Over Time')\n",
    "plt.grid(True)\n",
    "plt.show()"
   ]
  },
  {
   "cell_type": "code",
   "execution_count": null,
   "id": "7b6bb15e",
   "metadata": {},
   "outputs": [],
   "source": []
  }
 ],
 "metadata": {
  "kernelspec": {
   "display_name": "Python 3 (ipykernel)",
   "language": "python",
   "name": "python3"
  },
  "language_info": {
   "codemirror_mode": {
    "name": "ipython",
    "version": 3
   },
   "file_extension": ".py",
   "mimetype": "text/x-python",
   "name": "python",
   "nbconvert_exporter": "python",
   "pygments_lexer": "ipython3",
   "version": "3.9.7"
  }
 },
 "nbformat": 4,
 "nbformat_minor": 5
}
