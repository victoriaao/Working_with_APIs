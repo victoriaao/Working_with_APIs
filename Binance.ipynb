{
 "cells": [
  {
   "cell_type": "code",
   "execution_count": 1,
   "id": "241f3e08",
   "metadata": {},
   "outputs": [],
   "source": [
    "#Importing Libraries\n",
    "import requests \n",
    "import pandas as pd\n",
    "import json"
   ]
  },
  {
   "cell_type": "code",
   "execution_count": 2,
   "id": "bf786924",
   "metadata": {},
   "outputs": [],
   "source": [
    "#Fetching Data from the API\n",
    "url = 'https://api2.binance.com/api/v3/ticker/24hr'\n",
    "output = requests.get(url)\n",
    "data = output.json()"
   ]
  },
  {
   "cell_type": "code",
   "execution_count": 3,
   "id": "8cec7381",
   "metadata": {},
   "outputs": [],
   "source": [
    "#Putting data into DataFrame\n",
    "pdframe = pd.DataFrame(data)"
   ]
  },
  {
   "cell_type": "code",
   "execution_count": 9,
   "id": "c59b5fe5",
   "metadata": {},
   "outputs": [
    {
     "name": "stdout",
     "output_type": "stream",
     "text": [
      "    symbol  priceChange priceChangePercent weightedAvgPrice prevClosePrice  \\\n",
      "0   ETHBTC  -0.00008000             -0.126       0.06336478     0.06351000   \n",
      "1   LTCBTC  -0.00006300             -1.978       0.00314230     0.00318400   \n",
      "2   BNBBTC   0.00022300              2.696       0.00839620     0.00827200   \n",
      "3   NEOBTC   0.00000500              1.672       0.00030041     0.00029910   \n",
      "4  QTUMETH   0.00008700              6.277       0.00147681     0.00138900   \n",
      "\n",
      "    lastPrice      lastQty    bidPrice        bidQty    askPrice  ...  \\\n",
      "0  0.06342000   0.04490000  0.06342000   43.50630000  0.06343000  ...   \n",
      "1  0.00312200   0.99600000  0.00312100   11.71300000  0.00312200  ...   \n",
      "2  0.00849400   0.50000000  0.00849400    8.00100000  0.00849500  ...   \n",
      "3  0.00030400   3.00000000  0.00030380   43.66000000  0.00030410  ...   \n",
      "4  0.00147300  54.60000000  0.00147100  181.90000000  0.00148000  ...   \n",
      "\n",
      "    openPrice   highPrice    lowPrice          volume    quoteVolume  \\\n",
      "0  0.06350000  0.06376000  0.06299000  17804.13410000  1128.15501184   \n",
      "1  0.00318500  0.00319000  0.00306900  99638.44200000   313.09385721   \n",
      "2  0.00827100  0.00851300  0.00823700  56505.62000000   474.43238824   \n",
      "3  0.00029900  0.00030980  0.00029300  41707.16000000    12.52925775   \n",
      "4  0.00138600  0.00151600  0.00137300  20012.30000000    29.55437190   \n",
      "\n",
      "        openTime      closeTime    firstId     lastId  count  \n",
      "0  1690805563723  1690891963723  421511355  421547552  36198  \n",
      "1  1690805565245  1690891965245   92892072   92917844  25773  \n",
      "2  1690805555048  1690891955048  225590247  225642952  52706  \n",
      "3  1690805563992  1690891963992   45363558   45367256   3699  \n",
      "4  1690805563434  1690891963434    5397709    5398258    550  \n",
      "\n",
      "[5 rows x 21 columns]\n"
     ]
    }
   ],
   "source": [
    "#Exploring the Dataset to display the first few rows of the DataFrame\n",
    "print(pdframe.head(5))"
   ]
  },
  {
   "cell_type": "code",
   "execution_count": 8,
   "id": "5b9645e5",
   "metadata": {},
   "outputs": [
    {
     "name": "stdout",
     "output_type": "stream",
     "text": [
      "<class 'pandas.core.frame.DataFrame'>\n",
      "RangeIndex: 2266 entries, 0 to 2265\n",
      "Data columns (total 21 columns):\n",
      " #   Column              Non-Null Count  Dtype \n",
      "---  ------              --------------  ----- \n",
      " 0   symbol              2266 non-null   object\n",
      " 1   priceChange         2266 non-null   object\n",
      " 2   priceChangePercent  2266 non-null   object\n",
      " 3   weightedAvgPrice    2266 non-null   object\n",
      " 4   prevClosePrice      2266 non-null   object\n",
      " 5   lastPrice           2266 non-null   object\n",
      " 6   lastQty             2266 non-null   object\n",
      " 7   bidPrice            2266 non-null   object\n",
      " 8   bidQty              2266 non-null   object\n",
      " 9   askPrice            2266 non-null   object\n",
      " 10  askQty              2266 non-null   object\n",
      " 11  openPrice           2266 non-null   object\n",
      " 12  highPrice           2266 non-null   object\n",
      " 13  lowPrice            2266 non-null   object\n",
      " 14  volume              2266 non-null   object\n",
      " 15  quoteVolume         2266 non-null   object\n",
      " 16  openTime            2266 non-null   int64 \n",
      " 17  closeTime           2266 non-null   int64 \n",
      " 18  firstId             2266 non-null   int64 \n",
      " 19  lastId              2266 non-null   int64 \n",
      " 20  count               2266 non-null   int64 \n",
      "dtypes: int64(5), object(16)\n",
      "memory usage: 371.9+ KB\n",
      "None\n"
     ]
    }
   ],
   "source": [
    "# Check the data types and non-null counts\n",
    "print(pdframe.info())"
   ]
  },
  {
   "cell_type": "code",
   "execution_count": 10,
   "id": "f728cab3",
   "metadata": {},
   "outputs": [
    {
     "name": "stdout",
     "output_type": "stream",
     "text": [
      "           openTime     closeTime       firstId        lastId         count\n",
      "count  2.266000e+03  2.266000e+03  2.266000e+03  2.266000e+03  2.266000e+03\n",
      "mean   1.690331e+12  1.690418e+12  1.535219e+07  1.535886e+07  6.674264e+03\n",
      "std    5.992526e+08  5.992526e+08  8.458213e+07  8.460538e+07  6.763317e+04\n",
      "min    1.689572e+12  1.689659e+12 -1.000000e+00 -1.000000e+00  0.000000e+00\n",
      "25%    1.689572e+12  1.689659e+12 -1.000000e+00 -1.000000e+00  0.000000e+00\n",
      "50%    1.690806e+12  1.690892e+12  1.540902e+06  1.541583e+06  3.490000e+02\n",
      "75%    1.690806e+12  1.690892e+12  9.800852e+06  9.802954e+06  2.440750e+03\n",
      "max    1.690806e+12  1.690892e+12  3.181954e+09  3.182635e+09  3.000109e+06\n"
     ]
    }
   ],
   "source": [
    "# Describe the numerical columns\n",
    "print(pdframe.describe())"
   ]
  },
  {
   "cell_type": "code",
   "execution_count": 12,
   "id": "b65d671d",
   "metadata": {},
   "outputs": [],
   "source": [
    "## Data Cleaning and Transformation "
   ]
  },
  {
   "cell_type": "code",
   "execution_count": null,
   "id": "eb7af153",
   "metadata": {},
   "outputs": [],
   "source": []
  }
 ],
 "metadata": {
  "kernelspec": {
   "display_name": "Python 3 (ipykernel)",
   "language": "python",
   "name": "python3"
  },
  "language_info": {
   "codemirror_mode": {
    "name": "ipython",
    "version": 3
   },
   "file_extension": ".py",
   "mimetype": "text/x-python",
   "name": "python",
   "nbconvert_exporter": "python",
   "pygments_lexer": "ipython3",
   "version": "3.9.7"
  }
 },
 "nbformat": 4,
 "nbformat_minor": 5
}
