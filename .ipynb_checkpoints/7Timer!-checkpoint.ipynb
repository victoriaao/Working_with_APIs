{
 "cells": [
  {
   "cell_type": "code",
   "execution_count": 1,
   "id": "5abc47a4",
   "metadata": {},
   "outputs": [],
   "source": [
    "#IMPORT LIBRARIES\n",
    "import requests\n",
    "import pandas as pd\n",
    "import json\n",
    "import numpy as np\n",
    "\n",
    "import matplotlib\n",
    "import matplotlib.pyplot as plt\n",
    "plt.style.use('ggplot')\n",
    "from matplotlib.pyplot import figure\n",
    "\n",
    "#PLOTS \n",
    "%matplotlib inline\n",
    "matplotlib.rcParams['figure.figsize'] = (12,8)"
   ]
  },
  {
   "cell_type": "code",
   "execution_count": 2,
   "id": "9787670f",
   "metadata": {},
   "outputs": [],
   "source": [
    "url = 'http://www.7timer.info/bin/api.pl?lon=113.17&lat=23.09&product=astro&output=json'\n",
    "output = requests.get(url)"
   ]
  },
  {
   "cell_type": "code",
   "execution_count": 3,
   "id": "4b0aa11d",
   "metadata": {},
   "outputs": [
    {
     "name": "stdout",
     "output_type": "stream",
     "text": [
      "200\n"
     ]
    }
   ],
   "source": [
    "print(output.status_code)"
   ]
  },
  {
   "cell_type": "code",
   "execution_count": 4,
   "id": "75461478",
   "metadata": {
    "collapsed": true
   },
   "outputs": [
    {
     "data": {
      "text/plain": [
       "{'product': 'astro',\n",
       " 'init': '2023071918',\n",
       " 'dataseries': [{'timepoint': 3,\n",
       "   'cloudcover': 9,\n",
       "   'seeing': 8,\n",
       "   'transparency': 5,\n",
       "   'lifted_index': -4,\n",
       "   'rh2m': 13,\n",
       "   'wind10m': {'direction': 'E', 'speed': 2},\n",
       "   'temp2m': 28,\n",
       "   'prec_type': 'rain'},\n",
       "  {'timepoint': 6,\n",
       "   'cloudcover': 9,\n",
       "   'seeing': 6,\n",
       "   'transparency': 5,\n",
       "   'lifted_index': -4,\n",
       "   'rh2m': 11,\n",
       "   'wind10m': {'direction': 'E', 'speed': 2},\n",
       "   'temp2m': 29,\n",
       "   'prec_type': 'rain'},\n",
       "  {'timepoint': 9,\n",
       "   'cloudcover': 8,\n",
       "   'seeing': 6,\n",
       "   'transparency': 4,\n",
       "   'lifted_index': -4,\n",
       "   'rh2m': 8,\n",
       "   'wind10m': {'direction': 'SE', 'speed': 2},\n",
       "   'temp2m': 32,\n",
       "   'prec_type': 'rain'},\n",
       "  {'timepoint': 12,\n",
       "   'cloudcover': 9,\n",
       "   'seeing': 6,\n",
       "   'transparency': 3,\n",
       "   'lifted_index': -4,\n",
       "   'rh2m': 6,\n",
       "   'wind10m': {'direction': 'S', 'speed': 2},\n",
       "   'temp2m': 33,\n",
       "   'prec_type': 'rain'},\n",
       "  {'timepoint': 15,\n",
       "   'cloudcover': 9,\n",
       "   'seeing': 6,\n",
       "   'transparency': 3,\n",
       "   'lifted_index': -4,\n",
       "   'rh2m': 6,\n",
       "   'wind10m': {'direction': 'SW', 'speed': 2},\n",
       "   'temp2m': 33,\n",
       "   'prec_type': 'rain'},\n",
       "  {'timepoint': 18,\n",
       "   'cloudcover': 8,\n",
       "   'seeing': 6,\n",
       "   'transparency': 4,\n",
       "   'lifted_index': -4,\n",
       "   'rh2m': 8,\n",
       "   'wind10m': {'direction': 'SW', 'speed': 2},\n",
       "   'temp2m': 31,\n",
       "   'prec_type': 'rain'},\n",
       "  {'timepoint': 21,\n",
       "   'cloudcover': 8,\n",
       "   'seeing': 6,\n",
       "   'transparency': 4,\n",
       "   'lifted_index': -4,\n",
       "   'rh2m': 10,\n",
       "   'wind10m': {'direction': 'S', 'speed': 2},\n",
       "   'temp2m': 30,\n",
       "   'prec_type': 'none'},\n",
       "  {'timepoint': 24,\n",
       "   'cloudcover': 7,\n",
       "   'seeing': 6,\n",
       "   'transparency': 5,\n",
       "   'lifted_index': -4,\n",
       "   'rh2m': 11,\n",
       "   'wind10m': {'direction': 'S', 'speed': 2},\n",
       "   'temp2m': 28,\n",
       "   'prec_type': 'none'},\n",
       "  {'timepoint': 27,\n",
       "   'cloudcover': 8,\n",
       "   'seeing': 6,\n",
       "   'transparency': 6,\n",
       "   'lifted_index': -4,\n",
       "   'rh2m': 12,\n",
       "   'wind10m': {'direction': 'S', 'speed': 2},\n",
       "   'temp2m': 28,\n",
       "   'prec_type': 'none'},\n",
       "  {'timepoint': 30,\n",
       "   'cloudcover': 8,\n",
       "   'seeing': 6,\n",
       "   'transparency': 5,\n",
       "   'lifted_index': -4,\n",
       "   'rh2m': 11,\n",
       "   'wind10m': {'direction': 'S', 'speed': 2},\n",
       "   'temp2m': 29,\n",
       "   'prec_type': 'none'},\n",
       "  {'timepoint': 33,\n",
       "   'cloudcover': 8,\n",
       "   'seeing': 6,\n",
       "   'transparency': 3,\n",
       "   'lifted_index': -4,\n",
       "   'rh2m': 6,\n",
       "   'wind10m': {'direction': 'SW', 'speed': 2},\n",
       "   'temp2m': 33,\n",
       "   'prec_type': 'none'},\n",
       "  {'timepoint': 36,\n",
       "   'cloudcover': 7,\n",
       "   'seeing': 6,\n",
       "   'transparency': 3,\n",
       "   'lifted_index': -4,\n",
       "   'rh2m': 4,\n",
       "   'wind10m': {'direction': 'SW', 'speed': 2},\n",
       "   'temp2m': 36,\n",
       "   'prec_type': 'none'},\n",
       "  {'timepoint': 39,\n",
       "   'cloudcover': 8,\n",
       "   'seeing': 6,\n",
       "   'transparency': 3,\n",
       "   'lifted_index': -4,\n",
       "   'rh2m': 4,\n",
       "   'wind10m': {'direction': 'W', 'speed': 2},\n",
       "   'temp2m': 36,\n",
       "   'prec_type': 'none'},\n",
       "  {'timepoint': 42,\n",
       "   'cloudcover': 7,\n",
       "   'seeing': 6,\n",
       "   'transparency': 3,\n",
       "   'lifted_index': -4,\n",
       "   'rh2m': 7,\n",
       "   'wind10m': {'direction': 'S', 'speed': 2},\n",
       "   'temp2m': 35,\n",
       "   'prec_type': 'none'},\n",
       "  {'timepoint': 45,\n",
       "   'cloudcover': 9,\n",
       "   'seeing': 6,\n",
       "   'transparency': 4,\n",
       "   'lifted_index': -4,\n",
       "   'rh2m': 9,\n",
       "   'wind10m': {'direction': 'S', 'speed': 3},\n",
       "   'temp2m': 31,\n",
       "   'prec_type': 'none'},\n",
       "  {'timepoint': 48,\n",
       "   'cloudcover': 9,\n",
       "   'seeing': 6,\n",
       "   'transparency': 4,\n",
       "   'lifted_index': -4,\n",
       "   'rh2m': 10,\n",
       "   'wind10m': {'direction': 'S', 'speed': 2},\n",
       "   'temp2m': 30,\n",
       "   'prec_type': 'none'},\n",
       "  {'timepoint': 51,\n",
       "   'cloudcover': 8,\n",
       "   'seeing': 6,\n",
       "   'transparency': 4,\n",
       "   'lifted_index': -1,\n",
       "   'rh2m': 10,\n",
       "   'wind10m': {'direction': 'S', 'speed': 2},\n",
       "   'temp2m': 29,\n",
       "   'prec_type': 'none'},\n",
       "  {'timepoint': 54,\n",
       "   'cloudcover': 5,\n",
       "   'seeing': 6,\n",
       "   'transparency': 4,\n",
       "   'lifted_index': -4,\n",
       "   'rh2m': 9,\n",
       "   'wind10m': {'direction': 'S', 'speed': 2},\n",
       "   'temp2m': 30,\n",
       "   'prec_type': 'none'},\n",
       "  {'timepoint': 57,\n",
       "   'cloudcover': 5,\n",
       "   'seeing': 6,\n",
       "   'transparency': 3,\n",
       "   'lifted_index': -4,\n",
       "   'rh2m': 6,\n",
       "   'wind10m': {'direction': 'S', 'speed': 2},\n",
       "   'temp2m': 34,\n",
       "   'prec_type': 'none'},\n",
       "  {'timepoint': 60,\n",
       "   'cloudcover': 7,\n",
       "   'seeing': 6,\n",
       "   'transparency': 3,\n",
       "   'lifted_index': -4,\n",
       "   'rh2m': 4,\n",
       "   'wind10m': {'direction': 'SW', 'speed': 2},\n",
       "   'temp2m': 36,\n",
       "   'prec_type': 'none'},\n",
       "  {'timepoint': 63,\n",
       "   'cloudcover': 6,\n",
       "   'seeing': 6,\n",
       "   'transparency': 3,\n",
       "   'lifted_index': -4,\n",
       "   'rh2m': 4,\n",
       "   'wind10m': {'direction': 'SE', 'speed': 2},\n",
       "   'temp2m': 37,\n",
       "   'prec_type': 'none'},\n",
       "  {'timepoint': 66,\n",
       "   'cloudcover': 7,\n",
       "   'seeing': 6,\n",
       "   'transparency': 3,\n",
       "   'lifted_index': -1,\n",
       "   'rh2m': 7,\n",
       "   'wind10m': {'direction': 'S', 'speed': 3},\n",
       "   'temp2m': 34,\n",
       "   'prec_type': 'none'},\n",
       "  {'timepoint': 69,\n",
       "   'cloudcover': 4,\n",
       "   'seeing': 6,\n",
       "   'transparency': 3,\n",
       "   'lifted_index': -1,\n",
       "   'rh2m': 8,\n",
       "   'wind10m': {'direction': 'S', 'speed': 3},\n",
       "   'temp2m': 31,\n",
       "   'prec_type': 'none'},\n",
       "  {'timepoint': 72,\n",
       "   'cloudcover': 3,\n",
       "   'seeing': 6,\n",
       "   'transparency': 4,\n",
       "   'lifted_index': -1,\n",
       "   'rh2m': 9,\n",
       "   'wind10m': {'direction': 'S', 'speed': 3},\n",
       "   'temp2m': 30,\n",
       "   'prec_type': 'none'}]}"
      ]
     },
     "execution_count": 4,
     "metadata": {},
     "output_type": "execute_result"
    }
   ],
   "source": [
    "output.json()"
   ]
  },
  {
   "cell_type": "code",
   "execution_count": 5,
   "id": "049a50d2",
   "metadata": {},
   "outputs": [
    {
     "name": "stdout",
     "output_type": "stream",
     "text": [
      "<class 'requests.models.Response'>\n"
     ]
    }
   ],
   "source": [
    "print(type(output))"
   ]
  },
  {
   "cell_type": "code",
   "execution_count": 6,
   "id": "8d4c5372",
   "metadata": {
    "collapsed": true
   },
   "outputs": [
    {
     "name": "stdout",
     "output_type": "stream",
     "text": [
      "{'product': 'astro', 'init': '2023071918', 'dataseries': [{'timepoint': 3, 'cloudcover': 9, 'seeing': 8, 'transparency': 5, 'lifted_index': -4, 'rh2m': 13, 'wind10m': {'direction': 'E', 'speed': 2}, 'temp2m': 28, 'prec_type': 'rain'}, {'timepoint': 6, 'cloudcover': 9, 'seeing': 6, 'transparency': 5, 'lifted_index': -4, 'rh2m': 11, 'wind10m': {'direction': 'E', 'speed': 2}, 'temp2m': 29, 'prec_type': 'rain'}, {'timepoint': 9, 'cloudcover': 8, 'seeing': 6, 'transparency': 4, 'lifted_index': -4, 'rh2m': 8, 'wind10m': {'direction': 'SE', 'speed': 2}, 'temp2m': 32, 'prec_type': 'rain'}, {'timepoint': 12, 'cloudcover': 9, 'seeing': 6, 'transparency': 3, 'lifted_index': -4, 'rh2m': 6, 'wind10m': {'direction': 'S', 'speed': 2}, 'temp2m': 33, 'prec_type': 'rain'}, {'timepoint': 15, 'cloudcover': 9, 'seeing': 6, 'transparency': 3, 'lifted_index': -4, 'rh2m': 6, 'wind10m': {'direction': 'SW', 'speed': 2}, 'temp2m': 33, 'prec_type': 'rain'}, {'timepoint': 18, 'cloudcover': 8, 'seeing': 6, 'transparency': 4, 'lifted_index': -4, 'rh2m': 8, 'wind10m': {'direction': 'SW', 'speed': 2}, 'temp2m': 31, 'prec_type': 'rain'}, {'timepoint': 21, 'cloudcover': 8, 'seeing': 6, 'transparency': 4, 'lifted_index': -4, 'rh2m': 10, 'wind10m': {'direction': 'S', 'speed': 2}, 'temp2m': 30, 'prec_type': 'none'}, {'timepoint': 24, 'cloudcover': 7, 'seeing': 6, 'transparency': 5, 'lifted_index': -4, 'rh2m': 11, 'wind10m': {'direction': 'S', 'speed': 2}, 'temp2m': 28, 'prec_type': 'none'}, {'timepoint': 27, 'cloudcover': 8, 'seeing': 6, 'transparency': 6, 'lifted_index': -4, 'rh2m': 12, 'wind10m': {'direction': 'S', 'speed': 2}, 'temp2m': 28, 'prec_type': 'none'}, {'timepoint': 30, 'cloudcover': 8, 'seeing': 6, 'transparency': 5, 'lifted_index': -4, 'rh2m': 11, 'wind10m': {'direction': 'S', 'speed': 2}, 'temp2m': 29, 'prec_type': 'none'}, {'timepoint': 33, 'cloudcover': 8, 'seeing': 6, 'transparency': 3, 'lifted_index': -4, 'rh2m': 6, 'wind10m': {'direction': 'SW', 'speed': 2}, 'temp2m': 33, 'prec_type': 'none'}, {'timepoint': 36, 'cloudcover': 7, 'seeing': 6, 'transparency': 3, 'lifted_index': -4, 'rh2m': 4, 'wind10m': {'direction': 'SW', 'speed': 2}, 'temp2m': 36, 'prec_type': 'none'}, {'timepoint': 39, 'cloudcover': 8, 'seeing': 6, 'transparency': 3, 'lifted_index': -4, 'rh2m': 4, 'wind10m': {'direction': 'W', 'speed': 2}, 'temp2m': 36, 'prec_type': 'none'}, {'timepoint': 42, 'cloudcover': 7, 'seeing': 6, 'transparency': 3, 'lifted_index': -4, 'rh2m': 7, 'wind10m': {'direction': 'S', 'speed': 2}, 'temp2m': 35, 'prec_type': 'none'}, {'timepoint': 45, 'cloudcover': 9, 'seeing': 6, 'transparency': 4, 'lifted_index': -4, 'rh2m': 9, 'wind10m': {'direction': 'S', 'speed': 3}, 'temp2m': 31, 'prec_type': 'none'}, {'timepoint': 48, 'cloudcover': 9, 'seeing': 6, 'transparency': 4, 'lifted_index': -4, 'rh2m': 10, 'wind10m': {'direction': 'S', 'speed': 2}, 'temp2m': 30, 'prec_type': 'none'}, {'timepoint': 51, 'cloudcover': 8, 'seeing': 6, 'transparency': 4, 'lifted_index': -1, 'rh2m': 10, 'wind10m': {'direction': 'S', 'speed': 2}, 'temp2m': 29, 'prec_type': 'none'}, {'timepoint': 54, 'cloudcover': 5, 'seeing': 6, 'transparency': 4, 'lifted_index': -4, 'rh2m': 9, 'wind10m': {'direction': 'S', 'speed': 2}, 'temp2m': 30, 'prec_type': 'none'}, {'timepoint': 57, 'cloudcover': 5, 'seeing': 6, 'transparency': 3, 'lifted_index': -4, 'rh2m': 6, 'wind10m': {'direction': 'S', 'speed': 2}, 'temp2m': 34, 'prec_type': 'none'}, {'timepoint': 60, 'cloudcover': 7, 'seeing': 6, 'transparency': 3, 'lifted_index': -4, 'rh2m': 4, 'wind10m': {'direction': 'SW', 'speed': 2}, 'temp2m': 36, 'prec_type': 'none'}, {'timepoint': 63, 'cloudcover': 6, 'seeing': 6, 'transparency': 3, 'lifted_index': -4, 'rh2m': 4, 'wind10m': {'direction': 'SE', 'speed': 2}, 'temp2m': 37, 'prec_type': 'none'}, {'timepoint': 66, 'cloudcover': 7, 'seeing': 6, 'transparency': 3, 'lifted_index': -1, 'rh2m': 7, 'wind10m': {'direction': 'S', 'speed': 3}, 'temp2m': 34, 'prec_type': 'none'}, {'timepoint': 69, 'cloudcover': 4, 'seeing': 6, 'transparency': 3, 'lifted_index': -1, 'rh2m': 8, 'wind10m': {'direction': 'S', 'speed': 3}, 'temp2m': 31, 'prec_type': 'none'}, {'timepoint': 72, 'cloudcover': 3, 'seeing': 6, 'transparency': 4, 'lifted_index': -1, 'rh2m': 9, 'wind10m': {'direction': 'S', 'speed': 3}, 'temp2m': 30, 'prec_type': 'none'}]}\n"
     ]
    }
   ],
   "source": [
    "data = json.loads(output.text)\n",
    "print(data)"
   ]
  },
  {
   "cell_type": "code",
   "execution_count": 7,
   "id": "4e6c269d",
   "metadata": {
    "collapsed": true
   },
   "outputs": [
    {
     "name": "stdout",
     "output_type": "stream",
     "text": [
      "[{'timepoint': 3, 'cloudcover': 9, 'seeing': 8, 'transparency': 5, 'lifted_index': -4, 'rh2m': 13, 'wind10m': {'direction': 'E', 'speed': 2}, 'temp2m': 28, 'prec_type': 'rain'}, {'timepoint': 6, 'cloudcover': 9, 'seeing': 6, 'transparency': 5, 'lifted_index': -4, 'rh2m': 11, 'wind10m': {'direction': 'E', 'speed': 2}, 'temp2m': 29, 'prec_type': 'rain'}, {'timepoint': 9, 'cloudcover': 8, 'seeing': 6, 'transparency': 4, 'lifted_index': -4, 'rh2m': 8, 'wind10m': {'direction': 'SE', 'speed': 2}, 'temp2m': 32, 'prec_type': 'rain'}, {'timepoint': 12, 'cloudcover': 9, 'seeing': 6, 'transparency': 3, 'lifted_index': -4, 'rh2m': 6, 'wind10m': {'direction': 'S', 'speed': 2}, 'temp2m': 33, 'prec_type': 'rain'}, {'timepoint': 15, 'cloudcover': 9, 'seeing': 6, 'transparency': 3, 'lifted_index': -4, 'rh2m': 6, 'wind10m': {'direction': 'SW', 'speed': 2}, 'temp2m': 33, 'prec_type': 'rain'}, {'timepoint': 18, 'cloudcover': 8, 'seeing': 6, 'transparency': 4, 'lifted_index': -4, 'rh2m': 8, 'wind10m': {'direction': 'SW', 'speed': 2}, 'temp2m': 31, 'prec_type': 'rain'}, {'timepoint': 21, 'cloudcover': 8, 'seeing': 6, 'transparency': 4, 'lifted_index': -4, 'rh2m': 10, 'wind10m': {'direction': 'S', 'speed': 2}, 'temp2m': 30, 'prec_type': 'none'}, {'timepoint': 24, 'cloudcover': 7, 'seeing': 6, 'transparency': 5, 'lifted_index': -4, 'rh2m': 11, 'wind10m': {'direction': 'S', 'speed': 2}, 'temp2m': 28, 'prec_type': 'none'}, {'timepoint': 27, 'cloudcover': 8, 'seeing': 6, 'transparency': 6, 'lifted_index': -4, 'rh2m': 12, 'wind10m': {'direction': 'S', 'speed': 2}, 'temp2m': 28, 'prec_type': 'none'}, {'timepoint': 30, 'cloudcover': 8, 'seeing': 6, 'transparency': 5, 'lifted_index': -4, 'rh2m': 11, 'wind10m': {'direction': 'S', 'speed': 2}, 'temp2m': 29, 'prec_type': 'none'}, {'timepoint': 33, 'cloudcover': 8, 'seeing': 6, 'transparency': 3, 'lifted_index': -4, 'rh2m': 6, 'wind10m': {'direction': 'SW', 'speed': 2}, 'temp2m': 33, 'prec_type': 'none'}, {'timepoint': 36, 'cloudcover': 7, 'seeing': 6, 'transparency': 3, 'lifted_index': -4, 'rh2m': 4, 'wind10m': {'direction': 'SW', 'speed': 2}, 'temp2m': 36, 'prec_type': 'none'}, {'timepoint': 39, 'cloudcover': 8, 'seeing': 6, 'transparency': 3, 'lifted_index': -4, 'rh2m': 4, 'wind10m': {'direction': 'W', 'speed': 2}, 'temp2m': 36, 'prec_type': 'none'}, {'timepoint': 42, 'cloudcover': 7, 'seeing': 6, 'transparency': 3, 'lifted_index': -4, 'rh2m': 7, 'wind10m': {'direction': 'S', 'speed': 2}, 'temp2m': 35, 'prec_type': 'none'}, {'timepoint': 45, 'cloudcover': 9, 'seeing': 6, 'transparency': 4, 'lifted_index': -4, 'rh2m': 9, 'wind10m': {'direction': 'S', 'speed': 3}, 'temp2m': 31, 'prec_type': 'none'}, {'timepoint': 48, 'cloudcover': 9, 'seeing': 6, 'transparency': 4, 'lifted_index': -4, 'rh2m': 10, 'wind10m': {'direction': 'S', 'speed': 2}, 'temp2m': 30, 'prec_type': 'none'}, {'timepoint': 51, 'cloudcover': 8, 'seeing': 6, 'transparency': 4, 'lifted_index': -1, 'rh2m': 10, 'wind10m': {'direction': 'S', 'speed': 2}, 'temp2m': 29, 'prec_type': 'none'}, {'timepoint': 54, 'cloudcover': 5, 'seeing': 6, 'transparency': 4, 'lifted_index': -4, 'rh2m': 9, 'wind10m': {'direction': 'S', 'speed': 2}, 'temp2m': 30, 'prec_type': 'none'}, {'timepoint': 57, 'cloudcover': 5, 'seeing': 6, 'transparency': 3, 'lifted_index': -4, 'rh2m': 6, 'wind10m': {'direction': 'S', 'speed': 2}, 'temp2m': 34, 'prec_type': 'none'}, {'timepoint': 60, 'cloudcover': 7, 'seeing': 6, 'transparency': 3, 'lifted_index': -4, 'rh2m': 4, 'wind10m': {'direction': 'SW', 'speed': 2}, 'temp2m': 36, 'prec_type': 'none'}, {'timepoint': 63, 'cloudcover': 6, 'seeing': 6, 'transparency': 3, 'lifted_index': -4, 'rh2m': 4, 'wind10m': {'direction': 'SE', 'speed': 2}, 'temp2m': 37, 'prec_type': 'none'}, {'timepoint': 66, 'cloudcover': 7, 'seeing': 6, 'transparency': 3, 'lifted_index': -1, 'rh2m': 7, 'wind10m': {'direction': 'S', 'speed': 3}, 'temp2m': 34, 'prec_type': 'none'}, {'timepoint': 69, 'cloudcover': 4, 'seeing': 6, 'transparency': 3, 'lifted_index': -1, 'rh2m': 8, 'wind10m': {'direction': 'S', 'speed': 3}, 'temp2m': 31, 'prec_type': 'none'}, {'timepoint': 72, 'cloudcover': 3, 'seeing': 6, 'transparency': 4, 'lifted_index': -1, 'rh2m': 9, 'wind10m': {'direction': 'S', 'speed': 3}, 'temp2m': 30, 'prec_type': 'none'}]\n"
     ]
    }
   ],
   "source": [
    "dataset = data['dataseries']\n",
    "print(dataset)"
   ]
  },
  {
   "cell_type": "code",
   "execution_count": 8,
   "id": "6aa98966",
   "metadata": {},
   "outputs": [],
   "source": [
    "pdframe = pd.json_normalize(dataset)"
   ]
  },
  {
   "cell_type": "code",
   "execution_count": null,
   "id": "27892170",
   "metadata": {},
   "outputs": [],
   "source": []
  }
 ],
 "metadata": {
  "kernelspec": {
   "display_name": "Python 3 (ipykernel)",
   "language": "python",
   "name": "python3"
  },
  "language_info": {
   "codemirror_mode": {
    "name": "ipython",
    "version": 3
   },
   "file_extension": ".py",
   "mimetype": "text/x-python",
   "name": "python",
   "nbconvert_exporter": "python",
   "pygments_lexer": "ipython3",
   "version": "3.9.7"
  }
 },
 "nbformat": 4,
 "nbformat_minor": 5
}
