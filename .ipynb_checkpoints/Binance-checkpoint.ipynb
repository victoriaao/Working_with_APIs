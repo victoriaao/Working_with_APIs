{
 "cells": [
  {
   "cell_type": "code",
   "execution_count": 1,
   "id": "436e0837",
   "metadata": {},
   "outputs": [],
   "source": [
    "#Importing Libraries\n",
    "import requests \n",
    "import pandas as pd\n",
    "import json\n",
    "import matplotlib.pyplot as plt"
   ]
  },
  {
   "cell_type": "code",
   "execution_count": 2,
   "id": "9f649495",
   "metadata": {},
   "outputs": [],
   "source": [
    "#Fetching Data from the API\n",
    "url = 'https://api2.binance.com/api/v3/ticker/24hr'\n",
    "output = requests.get(url)\n",
    "data = output.json()"
   ]
  },
  {
   "cell_type": "code",
   "execution_count": 3,
   "id": "b9736db7",
   "metadata": {},
   "outputs": [],
   "source": [
    "#Putting data into DataFrame\n",
    "pdframe = pd.DataFrame(data)"
   ]
  },
  {
   "cell_type": "code",
   "execution_count": 4,
   "id": "b32e5060",
   "metadata": {},
   "outputs": [
    {
     "name": "stdout",
     "output_type": "stream",
     "text": [
      "    symbol  priceChange priceChangePercent weightedAvgPrice prevClosePrice  \\\n",
      "0   ETHBTC  -0.00001000             -0.016       0.06336667     0.06345000   \n",
      "1   LTCBTC   0.00007400              2.352       0.00316408     0.00314500   \n",
      "2   BNBBTC   0.00019400              2.345       0.00840962     0.00827300   \n",
      "3   NEOBTC   0.00000530              1.785       0.00030112     0.00029700   \n",
      "4  QTUMETH   0.00010400              7.531       0.00147793     0.00138100   \n",
      "\n",
      "    lastPrice      lastQty    bidPrice       bidQty    askPrice  ...  \\\n",
      "0  0.06344000   0.59270000  0.06343000  45.22940000  0.06344000  ...   \n",
      "1  0.00322000   0.40500000  0.00322000   5.39300000  0.00322100  ...   \n",
      "2  0.00846600   0.56400000  0.00846600   1.40800000  0.00846700  ...   \n",
      "3  0.00030220   1.38000000  0.00030200   1.38000000  0.00030230  ...   \n",
      "4  0.00148500  33.00000000  0.00147500  92.60000000  0.00148500  ...   \n",
      "\n",
      "    openPrice   highPrice    lowPrice           volume    quoteVolume  \\\n",
      "0  0.06345000  0.06376000  0.06299000   18480.35340000  1171.03844321   \n",
      "1  0.00314600  0.00325700  0.00306900  124418.96600000   393.67118979   \n",
      "2  0.00827200  0.00851300  0.00823700   60481.30500000   508.62506374   \n",
      "3  0.00029690  0.00030980  0.00029300   46465.75000000    13.99164531   \n",
      "4  0.00138100  0.00151600  0.00137300   23595.10000000    34.87184140   \n",
      "\n",
      "        openTime      closeTime    firstId     lastId  count  \n",
      "0  1690816510468  1690902910468  421515882  421551552  35671  \n",
      "1  1690816510033  1690902910033   92897819   92929439  31621  \n",
      "2  1690816511556  1690902911556  225594189  225650435  56247  \n",
      "3  1690816465051  1690902865051   45363824   45367991   4168  \n",
      "4  1690816497902  1690902897902    5397711    5398367    657  \n",
      "\n",
      "[5 rows x 21 columns]\n"
     ]
    }
   ],
   "source": [
    "#Exploring the Dataset to display the first few rows of the DataFrame\n",
    "print(pdframe.head(5))"
   ]
  },
  {
   "cell_type": "code",
   "execution_count": 5,
   "id": "837476a5",
   "metadata": {},
   "outputs": [
    {
     "name": "stdout",
     "output_type": "stream",
     "text": [
      "<class 'pandas.core.frame.DataFrame'>\n",
      "RangeIndex: 2266 entries, 0 to 2265\n",
      "Data columns (total 21 columns):\n",
      " #   Column              Non-Null Count  Dtype \n",
      "---  ------              --------------  ----- \n",
      " 0   symbol              2266 non-null   object\n",
      " 1   priceChange         2266 non-null   object\n",
      " 2   priceChangePercent  2266 non-null   object\n",
      " 3   weightedAvgPrice    2266 non-null   object\n",
      " 4   prevClosePrice      2266 non-null   object\n",
      " 5   lastPrice           2266 non-null   object\n",
      " 6   lastQty             2266 non-null   object\n",
      " 7   bidPrice            2266 non-null   object\n",
      " 8   bidQty              2266 non-null   object\n",
      " 9   askPrice            2266 non-null   object\n",
      " 10  askQty              2266 non-null   object\n",
      " 11  openPrice           2266 non-null   object\n",
      " 12  highPrice           2266 non-null   object\n",
      " 13  lowPrice            2266 non-null   object\n",
      " 14  volume              2266 non-null   object\n",
      " 15  quoteVolume         2266 non-null   object\n",
      " 16  openTime            2266 non-null   int64 \n",
      " 17  closeTime           2266 non-null   int64 \n",
      " 18  firstId             2266 non-null   int64 \n",
      " 19  lastId              2266 non-null   int64 \n",
      " 20  count               2266 non-null   int64 \n",
      "dtypes: int64(5), object(16)\n",
      "memory usage: 371.9+ KB\n",
      "None\n"
     ]
    }
   ],
   "source": [
    "# Check the data types and non-null counts\n",
    "print(pdframe.info())"
   ]
  },
  {
   "cell_type": "code",
   "execution_count": 6,
   "id": "2e131c3a",
   "metadata": {},
   "outputs": [
    {
     "name": "stdout",
     "output_type": "stream",
     "text": [
      "           openTime     closeTime       firstId        lastId         count\n",
      "count  2.266000e+03  2.266000e+03  2.266000e+03  2.266000e+03  2.266000e+03\n",
      "mean   1.690339e+12  1.690425e+12  1.535312e+07  1.535977e+07  6.646444e+03\n",
      "std    6.036922e+08  6.036922e+08  8.458528e+07  8.460891e+07  6.706538e+04\n",
      "min    1.689574e+12  1.689661e+12 -1.000000e+00 -1.000000e+00  0.000000e+00\n",
      "25%    1.689574e+12  1.689661e+12 -1.000000e+00 -1.000000e+00  0.000000e+00\n",
      "50%    1.690816e+12  1.690903e+12  1.540977e+06  1.541630e+06  3.535000e+02\n",
      "75%    1.690817e+12  1.690903e+12  9.801293e+06  9.803108e+06  2.443000e+03\n",
      "max    1.690817e+12  1.690903e+12  3.182043e+09  3.182748e+09  2.961589e+06\n"
     ]
    }
   ],
   "source": [
    "# Describe the numerical columns\n",
    "print(pdframe.describe())"
   ]
  },
  {
   "cell_type": "markdown",
   "id": "2410c660",
   "metadata": {},
   "source": [
    "## Data Cleaning and Transformation "
   ]
  },
  {
   "cell_type": "code",
   "execution_count": 7,
   "id": "1441e0f8",
   "metadata": {},
   "outputs": [],
   "source": [
    "#making the timestamp more readable\n",
    "pdframe['timestamp'] = pd.to_datetime(pdframe['closeTime'], unit='ms')"
   ]
  },
  {
   "cell_type": "code",
   "execution_count": 8,
   "id": "7b19d5ff",
   "metadata": {},
   "outputs": [
    {
     "name": "stdout",
     "output_type": "stream",
     "text": [
      "    symbol  priceChange priceChangePercent weightedAvgPrice prevClosePrice  \\\n",
      "0   ETHBTC  -0.00001000             -0.016       0.06336667     0.06345000   \n",
      "1   LTCBTC   0.00007400              2.352       0.00316408     0.00314500   \n",
      "2   BNBBTC   0.00019400              2.345       0.00840962     0.00827300   \n",
      "3   NEOBTC   0.00000530              1.785       0.00030112     0.00029700   \n",
      "4  QTUMETH   0.00010400              7.531       0.00147793     0.00138100   \n",
      "\n",
      "    lastPrice      lastQty    bidPrice       bidQty    askPrice  ...  \\\n",
      "0  0.06344000   0.59270000  0.06343000  45.22940000  0.06344000  ...   \n",
      "1  0.00322000   0.40500000  0.00322000   5.39300000  0.00322100  ...   \n",
      "2  0.00846600   0.56400000  0.00846600   1.40800000  0.00846700  ...   \n",
      "3  0.00030220   1.38000000  0.00030200   1.38000000  0.00030230  ...   \n",
      "4  0.00148500  33.00000000  0.00147500  92.60000000  0.00148500  ...   \n",
      "\n",
      "    highPrice    lowPrice           volume    quoteVolume       openTime  \\\n",
      "0  0.06376000  0.06299000   18480.35340000  1171.03844321  1690816510468   \n",
      "1  0.00325700  0.00306900  124418.96600000   393.67118979  1690816510033   \n",
      "2  0.00851300  0.00823700   60481.30500000   508.62506374  1690816511556   \n",
      "3  0.00030980  0.00029300   46465.75000000    13.99164531  1690816465051   \n",
      "4  0.00151600  0.00137300   23595.10000000    34.87184140  1690816497902   \n",
      "\n",
      "       closeTime    firstId     lastId  count               timestamp  \n",
      "0  1690902910468  421515882  421551552  35671 2023-08-01 15:15:10.468  \n",
      "1  1690902910033   92897819   92929439  31621 2023-08-01 15:15:10.033  \n",
      "2  1690902911556  225594189  225650435  56247 2023-08-01 15:15:11.556  \n",
      "3  1690902865051   45363824   45367991   4168 2023-08-01 15:14:25.051  \n",
      "4  1690902897902    5397711    5398367    657 2023-08-01 15:14:57.902  \n",
      "\n",
      "[5 rows x 22 columns]\n"
     ]
    }
   ],
   "source": [
    "print(pdframe.head(5))"
   ]
  },
  {
   "cell_type": "code",
   "execution_count": 9,
   "id": "42b6731c",
   "metadata": {},
   "outputs": [],
   "source": [
    "#Converting numeric strings to numeric values\n",
    "numeric_cols = ['lastPrice', 'bidPrice', 'askPrice', 'highPrice', 'lowPrice', 'volume', 'quoteVolume']\n",
    "pdframe[numeric_cols] = pdframe[numeric_cols].apply(pd.to_numeric)\n"
   ]
  },
  {
   "cell_type": "code",
   "execution_count": 10,
   "id": "db543d11",
   "metadata": {},
   "outputs": [
    {
     "name": "stdout",
     "output_type": "stream",
     "text": [
      "    symbol  priceChange priceChangePercent weightedAvgPrice prevClosePrice  \\\n",
      "0   ETHBTC  -0.00001000             -0.016       0.06336667     0.06345000   \n",
      "1   LTCBTC   0.00007400              2.352       0.00316408     0.00314500   \n",
      "2   BNBBTC   0.00019400              2.345       0.00840962     0.00827300   \n",
      "3   NEOBTC   0.00000530              1.785       0.00030112     0.00029700   \n",
      "4  QTUMETH   0.00010400              7.531       0.00147793     0.00138100   \n",
      "\n",
      "   lastPrice      lastQty  bidPrice       bidQty  askPrice  ... highPrice  \\\n",
      "0   0.063440   0.59270000  0.063430  45.22940000  0.063440  ...  0.063760   \n",
      "1   0.003220   0.40500000  0.003220   5.39300000  0.003221  ...  0.003257   \n",
      "2   0.008466   0.56400000  0.008466   1.40800000  0.008467  ...  0.008513   \n",
      "3   0.000302   1.38000000  0.000302   1.38000000  0.000302  ...  0.000310   \n",
      "4   0.001485  33.00000000  0.001475  92.60000000  0.001485  ...  0.001516   \n",
      "\n",
      "   lowPrice       volume  quoteVolume       openTime      closeTime  \\\n",
      "0  0.062990   18480.3534  1171.038443  1690816510468  1690902910468   \n",
      "1  0.003069  124418.9660   393.671190  1690816510033  1690902910033   \n",
      "2  0.008237   60481.3050   508.625064  1690816511556  1690902911556   \n",
      "3  0.000293   46465.7500    13.991645  1690816465051  1690902865051   \n",
      "4  0.001373   23595.1000    34.871841  1690816497902  1690902897902   \n",
      "\n",
      "     firstId     lastId  count               timestamp  \n",
      "0  421515882  421551552  35671 2023-08-01 15:15:10.468  \n",
      "1   92897819   92929439  31621 2023-08-01 15:15:10.033  \n",
      "2  225594189  225650435  56247 2023-08-01 15:15:11.556  \n",
      "3   45363824   45367991   4168 2023-08-01 15:14:25.051  \n",
      "4    5397711    5398367    657 2023-08-01 15:14:57.902  \n",
      "\n",
      "[5 rows x 22 columns]\n"
     ]
    }
   ],
   "source": [
    "print(pdframe.head(5))"
   ]
  },
  {
   "cell_type": "markdown",
   "id": "dc9c238f",
   "metadata": {},
   "source": [
    "## Performing Analysis"
   ]
  },
  {
   "cell_type": "code",
   "execution_count": 11,
   "id": "88b3ae71",
   "metadata": {},
   "outputs": [
    {
     "name": "stdout",
     "output_type": "stream",
     "text": [
      "The trading pair with the highest 24-hour volume is PEPEUSDT.\n"
     ]
    }
   ],
   "source": [
    "#The trading pair with the highest 24-hour volume\n",
    "max_volume_pair = pdframe.loc[pdframe['volume'].idxmax(), 'symbol']\n",
    "print(f\"The trading pair with the highest 24-hour volume is {max_volume_pair}.\")"
   ]
  },
  {
   "cell_type": "code",
   "execution_count": 12,
   "id": "cbe0c591",
   "metadata": {},
   "outputs": [
    {
     "name": "stdout",
     "output_type": "stream",
     "text": [
      "The average percentage change in price for all trading pairs is -0.72%.\n"
     ]
    }
   ],
   "source": [
    "#Calculating the average price change percentage for all trading pairs\n",
    "pdframe['priceChangePercent'] = pdframe['priceChangePercent'].astype(float)\n",
    "average_percentage_price_change = pdframe['priceChangePercent'].mean()\n",
    "print(f\"The average percentage change in price for all trading pairs is {average_percentage_price_change:.2f}%.\")"
   ]
  },
  {
   "cell_type": "code",
   "execution_count": 13,
   "id": "e14ba713",
   "metadata": {},
   "outputs": [
    {
     "name": "stdout",
     "output_type": "stream",
     "text": [
      "Top 5 Trading Pairs by 24-hour Volume:\n",
      "        symbol        volume\n",
      "2213  PEPEUSDT  1.690632e+13\n",
      "2218   PEPETRY  5.022964e+12\n",
      "1419  SHIBUSDT  3.507935e+12\n",
      "1420  SHIBBUSD  4.939836e+11\n",
      "1908  BTTCUSDT  3.641743e+11\n"
     ]
    }
   ],
   "source": [
    "#Top Trading Pairs by 24-hour Volume\n",
    "top_5_pairs = pdframe.nlargest(5, 'volume')[['symbol', 'volume']]\n",
    "print(\"Top 5 Trading Pairs by 24-hour Volume:\")\n",
    "print(top_5_pairs)"
   ]
  },
  {
   "cell_type": "code",
   "execution_count": 14,
   "id": "1e9222e4",
   "metadata": {},
   "outputs": [
    {
     "name": "stdout",
     "output_type": "stream",
     "text": [
      "Highest 24-hour Price Change Percentage: 20.98% for ALPACABTC\n",
      "Lowest 24-hour Price Change Percentage: -10.13% for VGXUSDT\n"
     ]
    }
   ],
   "source": [
    "#Percantage change of the Highest and Lowest 24-hour Price\n",
    "\n",
    "highest_pr_change_pair = pdframe.nlargest(1, 'priceChangePercent')[['symbol', 'priceChangePercent']]\n",
    "lowest_pr_change_pair = pdframe.nsmallest(1, 'priceChangePercent')[['symbol', 'priceChangePercent']]\n",
    "\n",
    "print(f\"Highest 24-hour Price Change Percentage: {highest_pr_change_pair.iloc[0]['priceChangePercent']:.2f}% for {highest_pr_change_pair.iloc[0]['symbol']}\")\n",
    "print(f\"Lowest 24-hour Price Change Percentage: {lowest_pr_change_pair.iloc[0]['priceChangePercent']:.2f}% for {lowest_pr_change_pair.iloc[0]['symbol']}\")\n"
   ]
  },
  {
   "cell_type": "code",
   "execution_count": 15,
   "id": "4ddc76f4",
   "metadata": {},
   "outputs": [
    {
     "name": "stdout",
     "output_type": "stream",
     "text": [
      "Average 24-hour Trading Volume is: 12188809920.72\n",
      "Median 24-hour Trading Volume is: 18692.67\n"
     ]
    }
   ],
   "source": [
    "#Average and Median 24-hour Trading Volume\n",
    "avg_vol = pdframe['volume'].mean()\n",
    "median_vol = pdframe['volume'].median()\n",
    "\n",
    "print(f\"Average 24-hour Trading Volume is: {avg_vol:.2f}\")\n",
    "print(f\"Median 24-hour Trading Volume is: {median_vol:.2f}\")"
   ]
  },
  {
   "cell_type": "code",
   "execution_count": 16,
   "id": "aa1ab3e2",
   "metadata": {},
   "outputs": [
    {
     "data": {
      "image/png": "[encoded data removed]",
      "text/plain": [
       "<Figure size 720x432 with 1 Axes>"
      ]
     },
     "metadata": {
      "needs_background": "light"
     },
     "output_type": "display_data"
    }
   ],
   "source": [
    "plt.figure(figsize=(10, 6))\n",
    "plt.hist(pdframe['priceChangePercent'], bins=30, color='blue')\n",
    "plt.xlabel('Price Change Percentage')\n",
    "plt.ylabel('Frequency')\n",
    "plt.title('Distribution of 24-hour Price Change Percentage')\n",
    "plt.grid(True)\n",
    "plt.show()"
   ]
  }
 ],
 "metadata": {
  "kernelspec": {
   "display_name": "Python 3 (ipykernel)",
   "language": "python",
   "name": "python3"
  },
  "language_info": {
   "codemirror_mode": {
    "name": "ipython",
    "version": 3
   },
   "file_extension": ".py",
   "mimetype": "text/x-python",
   "name": "python",
   "nbconvert_exporter": "python",
   "pygments_lexer": "ipython3",
   "version": "3.9.7"
  }
 },
 "nbformat": 4,
 "nbformat_minor": 5
}
